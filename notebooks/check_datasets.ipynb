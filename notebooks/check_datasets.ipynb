{
 "cells": [
  {
   "cell_type": "code",
   "execution_count": 2,
   "id": "d3dc0145-d199-4917-8179-e9a6af4f814c",
   "metadata": {},
   "outputs": [],
   "source": [
    "import pyspark\n",
    "from pyspark.sql import SparkSession\n",
    "from os import walk\n",
    "from Helper_Code.helpfull_functions import *"
   ]
  },
  {
   "cell_type": "code",
   "execution_count": 3,
   "id": "7676dbcb-dafe-4bd1-9754-46f6c6d546ef",
   "metadata": {},
   "outputs": [
    {
     "name": "stderr",
     "output_type": "stream",
     "text": [
      "WARNING: An illegal reflective access operation has occurred\n",
      "WARNING: Illegal reflective access by org.apache.spark.unsafe.Platform (file:/usr/local/lib/python3.9/dist-packages/pyspark/jars/spark-unsafe_2.12-3.2.1.jar) to constructor java.nio.DirectByteBuffer(long,int)\n",
      "WARNING: Please consider reporting this to the maintainers of org.apache.spark.unsafe.Platform\n",
      "WARNING: Use --illegal-access=warn to enable warnings of further illegal reflective access operations\n",
      "WARNING: All illegal access operations will be denied in a future release\n",
      "Using Spark's default log4j profile: org/apache/spark/log4j-defaults.properties\n",
      "Setting default log level to \"WARN\".\n",
      "To adjust logging level use sc.setLogLevel(newLevel). For SparkR, use setLogLevel(newLevel).\n",
      "22/06/17 15:21:21 WARN NativeCodeLoader: Unable to load native-hadoop library for your platform... using builtin-java classes where applicable\n",
      "22/06/17 15:21:22 WARN Utils: Service 'SparkUI' could not bind on port 4040. Attempting port 4041.\n"
     ]
    }
   ],
   "source": [
    "spark = SparkSession\\\n",
    "    .builder\\\n",
    "    .appName(\"APPNAME\")\\\n",
    "    .enableHiveSupport()\\\n",
    "    .getOrCreate()"
   ]
  },
  {
   "cell_type": "code",
   "execution_count": 44,
   "id": "e4161f67-4428-482b-8194-5fdbf63e10af",
   "metadata": {},
   "outputs": [
    {
     "name": "stdout",
     "output_type": "stream",
     "text": [
      "(2689, 6)\n",
      "+------------+--------------+---------------------------+--------------------+----------------------+-----------------------------+\n",
      "|care_site_id|care_site_name|place_of_service_concept_id|         location_id|care_site_source_value|place_of_service_source_value|\n",
      "+------------+--------------+---------------------------+--------------------+----------------------+-----------------------------+\n",
      "|          44|           YNH|                          0|ca62e9a2a98e68419...|      EMH HOSPITAL LAB|                          Lab|\n",
      "|         192|            YM|                          0|ca62e9a2a98e68419...|  EMC CHILD PSYCHIATRY|         Child & Adolescen...|\n",
      "|         352|            GH|                       null|6fb5c426017a739f8...|   CHILD LIFE SERVICES|                         null|\n",
      "|         355|            GH|                       null|6fb5c426017a739f8...|       CASE MANAGEMENT|                         null|\n",
      "|         362|            BH|                       null|82a71069f71bba113...|         BH ANESTHESIA|                         null|\n",
      "|         381|            BH|                          0|f9a4203214dda2c99...|   BH PHYSICAL THERAPY|             Physical Therapy|\n",
      "|         383|           YNH|                          0|44934601bc758b9a9...|  YNH PHYSICAL THERAPY|             Physical Therapy|\n",
      "|         390|           YNH|                   45756754|e2d4a21e360be22a7...|  YNH CARDIOTHORACI...|         Cardiovascular Di...|\n",
      "|         392|           YNH|                   38004452|e2d4a21e360be22a7...|  YNH DERMATOLOGY S...|                  Dermatology|\n",
      "|         411|            GH|                          0|a3694cb10e44bbbd3...|  GH INFECTIOUS DIS...|          Infectious Diseases|\n",
      "|         431|            BH|                   38004455|82a71069f71bba113...|  BH GASTROENTEROLO...|             Gastroenterology|\n",
      "|         435|            BH|                   38004501|82a71069f71bba113...|  BH HEMATOLOGY SER...|                   Hematology|\n",
      "|         440|            BH|                          0|82a71069f71bba113...|  BH NEUROSURGERY S...|         Neurological Surgery|\n",
      "|         441|            BH|                   38004458|82a71069f71bba113...|  BH NEUROLOGY SERVICE|                    Neurology|\n",
      "|         448|            BH|                   38003969|82a71069f71bba113...|  BH PLASTIC SURGER...|              Plastic Surgery|\n",
      "|         451|            BH|                   38004472|82a71069f71bba113...|  BH PULMONARY SERVICE|            Pulmonary Disease|\n",
      "|         454|            BH|                   38004496|82a71069f71bba113...|  BH VASCULAR SURGE...|             Vascular Surgery|\n",
      "|         460|           YNH|                          0|bc99f7365598bce9b...|  YNH PEDIATRIC SED...|                   Pediatrics|\n",
      "|         464|           YNH|                   45756754|d6f7709ff42962f0f...|  YNH CARDIOLOGY SE...|         Cardiovascular Di...|\n",
      "|         491|           YNH|                          0|920c9caa5d5c5591e...|  YNH FOOD AND NUTR...|                    Nutrition|\n",
      "+------------+--------------+---------------------------+--------------------+----------------------+-----------------------------+\n",
      "only showing top 20 rows\n",
      "\n"
     ]
    }
   ],
   "source": [
    "care_site = merge_files(\"/home/jupyter/omop-ed-datapipeline/care_site\")"
   ]
  },
  {
   "cell_type": "code",
   "execution_count": 13,
   "id": "c596565a-b1cc-4f97-bff0-e5113f0c1a4f",
   "metadata": {},
   "outputs": [
    {
     "name": "stdout",
     "output_type": "stream",
     "text": [
      "(8107890, 10)\n",
      "+----------+--------------------+---------+----------------+-----------------+----------------+------------+----------------+--------------+--------------+\n",
      "|concept_id|        concept_name|domain_id|   vocabulary_id| concept_class_id|standard_concept|concept_code|valid_start_date|valid_end_date|invalid_reason|\n",
      "+----------+--------------------+---------+----------------+-----------------+----------------+------------+----------------+--------------+--------------+\n",
      "|  40744178|Magnesium glycero...|     Drug|RxNorm Extension|     Branded Drug|               S| OMOP4712893|      2018-06-04|    2099-12-31|          null|\n",
      "|  40744177|Magnesium glycero...|     Drug|RxNorm Extension| Marketed Product|               S| OMOP4712894|      2018-06-04|    2099-12-31|          null|\n",
      "|  40744176|Magnesium glycero...|     Drug|RxNorm Extension| Branded Drug Box|               S| OMOP4712895|      2018-06-04|    2099-12-31|          null|\n",
      "|  40744175|Magnesium glycero...|     Drug|RxNorm Extension| Marketed Product|               S| OMOP4712896|      2018-06-04|    2099-12-31|          null|\n",
      "|  40744174|Magnesium glycero...|     Drug|RxNorm Extension|Clinical Drug Box|               S| OMOP4712897|      2018-06-04|    2099-12-31|          null|\n",
      "|  40744173|Magnesium glycero...|     Drug|RxNorm Extension|    Clinical Drug|               S| OMOP4712898|      2018-06-04|    2099-12-31|          null|\n",
      "|  40744172|Magnesium glycero...|     Drug|RxNorm Extension|Clinical Drug Box|               S| OMOP4712899|      2018-06-04|    2099-12-31|          null|\n",
      "|  43155433|BETAHISTINE 24 MG...|     Drug|RxNorm Extension|Branded Drug Comp|               S|  OMOP471290|      2017-08-24|    2099-12-31|          null|\n",
      "|  40744171|Magnesium glycero...|     Drug|RxNorm Extension|     Branded Drug|               S| OMOP4712900|      2018-06-04|    2099-12-31|          null|\n",
      "|  40744170|Magnesium glycero...|     Drug|RxNorm Extension| Marketed Product|               S| OMOP4712901|      2018-06-04|    2099-12-31|          null|\n",
      "|  40744169|Magnesium glycero...|     Drug|RxNorm Extension| Branded Drug Box|               S| OMOP4712902|      2018-06-04|    2099-12-31|          null|\n",
      "|  40744168|Magnesium glycero...|     Drug|RxNorm Extension| Marketed Product|               S| OMOP4712903|      2018-06-04|    2099-12-31|          null|\n",
      "|  40744167|Magnesium glycero...|     Drug|RxNorm Extension|     Branded Drug|               S| OMOP4712904|      2018-06-04|    2099-12-31|          null|\n",
      "|  40744166|Magnesium glycero...|     Drug|RxNorm Extension| Marketed Product|               S| OMOP4712905|      2018-06-04|    2099-12-31|          null|\n",
      "|  40744165|Magnesium glycero...|     Drug|RxNorm Extension| Branded Drug Box|               S| OMOP4712906|      2018-06-04|    2099-12-31|          null|\n",
      "|  40744164|Magnesium glycero...|     Drug|RxNorm Extension| Marketed Product|               S| OMOP4712907|      2018-06-04|    2099-12-31|          null|\n",
      "|  40744163|Magnesium glycero...|     Drug|RxNorm Extension|Branded Drug Comp|               S| OMOP4712908|      2018-06-04|    2099-12-31|          null|\n",
      "|  40744162|Magnesium glycero...|     Drug|RxNorm Extension|     Branded Drug|               S| OMOP4712909|      2018-06-04|    2099-12-31|          null|\n",
      "|  43181572|fluticasone 0.05 ...|     Drug|RxNorm Extension|    Clinical Drug|               S|  OMOP471291|      2017-08-24|    2099-12-31|          null|\n",
      "|  40744161|Magnesium glycero...|     Drug|RxNorm Extension| Marketed Product|               S| OMOP4712910|      2018-06-04|    2099-12-31|          null|\n",
      "+----------+--------------------+---------+----------------+-----------------+----------------+------------+----------------+--------------+--------------+\n",
      "only showing top 20 rows\n",
      "\n"
     ]
    }
   ],
   "source": [
    "concept = merge_files(\"/home/jupyter/omop-ed-datapipeline/concept\", spark)"
   ]
  },
  {
   "cell_type": "code",
   "execution_count": 16,
   "id": "b41a0886-da92-4e7d-af26-ab2fe6d74725",
   "metadata": {},
   "outputs": [
    {
     "name": "stdout",
     "output_type": "stream",
     "text": [
      "+----------+--------------------+------------+-------------+--------------------+----------------+---------------+----------------+--------------+--------------+\n",
      "|concept_id|        concept_name|   domain_id|vocabulary_id|    concept_class_id|standard_concept|   concept_code|valid_start_date|valid_end_date|invalid_reason|\n",
      "+----------+--------------------+------------+-------------+--------------------+----------------+---------------+----------------+--------------+--------------+\n",
      "|  44805767|Referral to ear, ...| Observation|       SNOMED|           Procedure|               S|818841000000106|      2012-04-01|    2099-12-31|          null|\n",
      "|   3559177|Referral to ear, ...| Observation|       SNOMED|           Procedure|            null|818851000000109|      1970-01-01|    2012-04-01|             U|\n",
      "|  44809126|Referral to ortho...| Observation|       SNOMED|           Procedure|               S|835201000000105|      2012-10-01|    2099-12-31|          null|\n",
      "|  44809425|Referral to spina...| Observation|       SNOMED|           Procedure|               S|845431000000102|      2012-10-01|    2099-12-31|          null|\n",
      "|   3559507|Referral to ortho...| Observation|       SNOMED|           Procedure|            null|845441000000106|      1970-01-01|    2012-10-01|             U|\n",
      "|  44809426|Referral to perip...| Observation|       SNOMED|           Procedure|               S|845451000000109|      2012-10-01|    2099-12-31|          null|\n",
      "|   3559508|Referral to ortho...| Observation|       SNOMED|           Procedure|            null|845461000000107|      1970-01-01|    2012-10-01|             U|\n",
      "|   3559659|Referral to ortho...| Observation|       SNOMED|           Procedure|            null|857591000000109|      1970-01-01|    2012-10-01|             U|\n",
      "|  44811958|Remote triage and...| Observation|       SNOMED|     Qualifier Value|               S|908981000000101|      2014-04-01|    2099-12-31|          null|\n",
      "|  45770402|Inappropriate tri...| Observation|       SNOMED|    Clinical Finding|               S|927901000000101|      2014-10-01|    2099-12-31|          null|\n",
      "|   3546953|Inappropriate tri...|   Condition|       SNOMED|    Clinical Finding|            null|927911000000104|      1970-01-01|    2014-10-01|             U|\n",
      "|  45770403|Appropriate triag...| Observation|       SNOMED|    Clinical Finding|               S|927921000000105|      2014-10-01|    2099-12-31|          null|\n",
      "|   3546954|Appropriate triag...|   Condition|       SNOMED|    Clinical Finding|            null|927931000000107|      1970-01-01|    2014-10-01|             U|\n",
      "|  35630703|Remote triage and...|Type Concept|       SNOMED|     Record Artifact|            null|960781000000101|      2018-04-01|    2099-12-31|          null|\n",
      "|  40759929|ED triage nurse P...| Observation|        LOINC|Clinical Observation|               S|        56810-5|      2009-08-17|    2099-12-31|          null|\n",
      "|  40770113|CDC field triage ...| Observation|        LOINC|Clinical Observation|               S|        67495-2|      2011-07-12|    2099-12-31|          null|\n",
      "|  46235347|Three level triag...| Observation|        LOINC|              Survey|               S|        75614-8|      2015-06-29|    2099-12-31|          null|\n",
      "|  46235348|Four level triage...| Observation|        LOINC|              Survey|               S|        75615-5|      2015-06-29|    2099-12-31|          null|\n",
      "|  46235349|Generic five leve...| Observation|        LOINC|              Survey|               S|        75616-3|      2015-06-29|    2099-12-31|          null|\n",
      "|  46235706|Canadian triage a...| Observation|        LOINC|              Survey|               S|        75910-0|      2015-06-29|    2099-12-31|          null|\n",
      "+----------+--------------------+------------+-------------+--------------------+----------------+---------------+----------------+--------------+--------------+\n",
      "only showing top 20 rows\n",
      "\n"
     ]
    }
   ],
   "source": [
    "concept2= concept.where(concept.concept_name.contains('triage'))\n",
    "concept2.show()"
   ]
  },
  {
   "cell_type": "code",
   "execution_count": 6,
   "id": "cd182c8d-d665-4c4d-8de7-c4f85d616577",
   "metadata": {},
   "outputs": [
    {
     "name": "stderr",
     "output_type": "stream",
     "text": [
      "                                                                                \r"
     ]
    },
    {
     "name": "stdout",
     "output_type": "stream",
     "text": [
      "(78498725, 4)\n",
      "+-------------------+---------------------+------------------------+------------------------+\n",
      "|ancestor_concept_id|descendant_concept_id|min_levels_of_separation|max_levels_of_separation|\n",
      "+-------------------+---------------------+------------------------+------------------------+\n",
      "|           45782152|             21162043|                       2|                       3|\n",
      "|           45787425|             43772033|                       2|                       3|\n",
      "|           45799162|             43036684|                       2|                       3|\n",
      "|           45784838|             44049892|                       2|                       2|\n",
      "|           45780084|             41134200|                       2|                       3|\n",
      "|           45802631|              2055112|                       2|                       2|\n",
      "|           45797896|             35886435|                       2|                       2|\n",
      "|           45793293|             42949676|                       1|                       1|\n",
      "|           45801451|             41154312|                       2|                       2|\n",
      "|           45888397|             45887985|                       3|                       3|\n",
      "|           45801641|             41276984|                       1|                       1|\n",
      "|           45794044|             40714727|                       2|                       2|\n",
      "|           45894808|             43605458|                       1|                       1|\n",
      "|           45778461|             40977265|                       2|                       3|\n",
      "|           45797435|             21141024|                       2|                       3|\n",
      "|           45792469|               784790|                       2|                       3|\n",
      "|           45789164|             41134205|                       2|                       3|\n",
      "|           45890516|             45890477|                       3|                       3|\n",
      "|           45788918|             41165830|                       2|                       3|\n",
      "|           45896360|              2911614|                       2|                       2|\n",
      "+-------------------+---------------------+------------------------+------------------------+\n",
      "only showing top 20 rows\n",
      "\n"
     ]
    }
   ],
   "source": [
    "concept_ancestor = merge_files(\"/home/jupyter/omop-ed-datapipeline/concept_ancestor\")"
   ]
  },
  {
   "cell_type": "code",
   "execution_count": 7,
   "id": "a7c04942-dcff-4473-9c2b-60e08a93817b",
   "metadata": {},
   "outputs": [
    {
     "name": "stdout",
     "output_type": "stream",
     "text": [
      "(415, 3)\n",
      "+-------------------+--------------------+------------------------+\n",
      "|   concept_class_id|  concept_class_name|concept_class_concept_id|\n",
      "+-------------------+--------------------+------------------------+\n",
      "|    Qualifier Value|     Qualifier Value|                44819021|\n",
      "|     Quality Metric|      Quality Metric|                44819092|\n",
      "|               Race|                Race|                44819030|\n",
      "|               Read|                Read|                44819273|\n",
      "|    Record Artifact|     Record Artifact|                44818999|\n",
      "|       Relationship|   OMOP Relationship|                44819274|\n",
      "|Respiratory Disease|Diseases of the r...|                44819176|\n",
      "|       Revenue Code|        Revenue Code|                44819075|\n",
      "|       Skin Disease|Diseases of the s...|                44819178|\n",
      "|                SMQ|Standardized Medd...|                44819060|\n",
      "|                SOC|  System Organ Class|                44819037|\n",
      "|     Social Context|      Social Context|                44819022|\n",
      "|Soft Tissue Disease|Diseases of the m...|                44819179|\n",
      "|       Special Code|Codes for special...|                44819236|\n",
      "|    Special Concept|     Special Concept|                44819046|\n",
      "|          Specialty|           Specialty|                44819016|\n",
      "|           Specimen|            Specimen|                44819055|\n",
      "|                SPL|                 SPL|                44819276|\n",
      "|   Staging / Scales|  Staging And Scales|                44819010|\n",
      "|      Standard Unit|       Standard Unit|                44819073|\n",
      "+-------------------+--------------------+------------------------+\n",
      "only showing top 20 rows\n",
      "\n"
     ]
    }
   ],
   "source": [
    "concept_class = merge_files(\"/home/jupyter/omop-ed-datapipeline/concept_class\")"
   ]
  },
  {
   "cell_type": "code",
   "execution_count": 8,
   "id": "583365fc-c45a-4798-a342-5e6249761d1e",
   "metadata": {},
   "outputs": [
    {
     "name": "stderr",
     "output_type": "stream",
     "text": [
      "                                                                                \r"
     ]
    },
    {
     "name": "stdout",
     "output_type": "stream",
     "text": [
      "(53237604, 6)\n",
      "+------------+------------+---------------+----------------+--------------+--------------+\n",
      "|concept_id_1|concept_id_2|relationship_id|valid_start_date|valid_end_date|invalid_reason|\n",
      "+------------+------------+---------------+----------------+--------------+--------------+\n",
      "|    41508690|    40808454| Has brand name|      2017-07-18|    2099-12-31|          null|\n",
      "|    19025908|    19023073| Has brand name|      2016-10-07|    2099-12-31|          null|\n",
      "|    43645720|    43574063| Has brand name|      2016-07-01|    2099-12-31|          null|\n",
      "|    43605772|    43572501| Has brand name|      2016-07-01|    2099-12-31|          null|\n",
      "|    43269292|    43254087| Has brand name|      2016-09-30|    2099-12-31|          null|\n",
      "|    40846778|    43570581| Has brand name|      2017-07-18|    2099-12-31|          null|\n",
      "|    44093687|    44017800| Has brand name|      2017-06-25|    2099-12-31|          null|\n",
      "|    45892878|    19068457| Has brand name|      2016-10-07|    2099-12-31|          null|\n",
      "|    35785196|    21017603| Has brand name|      2017-08-02|    2099-12-31|          null|\n",
      "|    36261045|    36256231| Has brand name|      2017-10-01|    2099-12-31|          null|\n",
      "|    41277440|    40816227| Has brand name|      2017-07-18|    2099-12-31|          null|\n",
      "|    43792556|    43566469| Has brand name|      2016-07-01|    2099-12-31|          null|\n",
      "|    41129575|    43127288| Has brand name|      2017-08-24|    2099-12-31|          null|\n",
      "|    43624551|    43575312| Has brand name|      2016-07-01|    2099-12-31|          null|\n",
      "|    41447688|    40805585| Has brand name|      2017-07-18|    2099-12-31|          null|\n",
      "|    40741556|    19071372| Has brand name|      2018-06-04|    2099-12-31|          null|\n",
      "|    44125318|    44014986| Has brand name|      2017-06-25|    2099-12-31|          null|\n",
      "|    40734965|    19113598| Has brand name|      2018-06-04|    2099-12-31|          null|\n",
      "|    43184348|    43130314| Has brand name|      2016-09-10|    2099-12-31|          null|\n",
      "|    43646666|    43568048| Has brand name|      2016-07-01|    2099-12-31|          null|\n",
      "+------------+------------+---------------+----------------+--------------+--------------+\n",
      "only showing top 20 rows\n",
      "\n"
     ]
    }
   ],
   "source": [
    "concept_relationship = merge_files(\"/home/jupyter/omop-ed-datapipeline/concept_relationship\")"
   ]
  },
  {
   "cell_type": "code",
   "execution_count": 9,
   "id": "2fddbd86-0363-4248-8451-836a127a0b2b",
   "metadata": {},
   "outputs": [
    {
     "name": "stdout",
     "output_type": "stream",
     "text": [
      "(2677157, 3)\n",
      "+----------+-------------------------------------+-------------------+\n",
      "|concept_id|                 concept_synonym_name|language_concept_id|\n",
      "+----------+-------------------------------------+-------------------+\n",
      "|  42205956|  투시하 이물제거술(상부소화관이물...|            4175771|\n",
      "|  42205959|   기관또는기관지봉합술(경부접근),...|            4175771|\n",
      "|  42205964|   절개술(안면과경부이외,제2범위부...|            4175771|\n",
      "|  42205966|마스크에의한폐쇄순환식전신마취유지...|            4175771|\n",
      "|  42205969|   동맥류절제술[혈관이식술포함]-하...|            4175771|\n",
      "|  42205970|   사지골절정복술[복잡골절포함]-관...|            4175771|\n",
      "|  42205978|   신우,요관성형술, 권역외상센터중...|            4175771|\n",
      "|  42205986|       폐쐐기절제술(2~3개), 권역외...|            4175771|\n",
      "|  42205988|   간절제술-간엽절제, 권역외상센터...|            4175771|\n",
      "|  42205991|  쇄골골절고정술, 권역외상센터중증...|            4175771|\n",
      "|  42205993|    혈관결찰술(기타), 권역외상센터...|            4175771|\n",
      "|  42205997|    인두이물제거술(단순[편도상와])...|            4175771|\n",
      "|  42205999|   전자궁적출술(림프절절제를 하지 ...|            4175771|\n",
      "|  42206000|   피판작성술-피부-원거리-수부이외...|            4175771|\n",
      "|  42206011|    식피술-전층피부이식술(수족부)-...|            4175771|\n",
      "|  42206016| 서혜부허니아근본수술(장관절제를동...|            4175771|\n",
      "|  42206017|   혈관성형술(팻취이용한경우)-개흉...|            4175771|\n",
      "|  42206022|   복재정맥-슬와정맥문합술, 권역외...|            4175771|\n",
      "|  42206024|  척추고정술[기기,기구사용고정포함...|            4175771|\n",
      "|  42206028|    사지골절정복술[복잡골절포함]-C...|            4175771|\n",
      "+----------+-------------------------------------+-------------------+\n",
      "only showing top 20 rows\n",
      "\n"
     ]
    }
   ],
   "source": [
    "concept_synonym = merge_files(\"/home/jupyter/omop-ed-datapipeline/concept_synonym\")"
   ]
  },
  {
   "cell_type": "code",
   "execution_count": 10,
   "id": "3b35f9e4-8aa6-40c5-a2d2-106e110cc56a",
   "metadata": {},
   "outputs": [
    {
     "name": "stderr",
     "output_type": "stream",
     "text": [
      "                                                                                \r"
     ]
    },
    {
     "name": "stdout",
     "output_type": "stream",
     "text": [
      "(59801967, 17)\n"
     ]
    },
    {
     "name": "stderr",
     "output_type": "stream",
     "text": [
      "22/06/07 18:13:11 WARN DAGScheduler: Broadcasting large task binary with size 1710.9 KiB\n",
      "22/06/07 18:13:11 WARN DAGScheduler: Broadcasting large task binary with size 1710.9 KiB\n"
     ]
    },
    {
     "name": "stdout",
     "output_type": "stream",
     "text": [
      "+---------+-----------------------+------------------------------+--------------------+--------------------+------------------------+------------------+----------------------+-------------------------+---------------------------+-----------+-----------+-------------------+---------------+----------------------+---------------------------+-----------------------------+\n",
      "|person_id|condition_occurrence_id|condition_occurrence_source_id|condition_concept_id|condition_start_date|condition_start_datetime|condition_end_date|condition_end_datetime|condition_type_concept_id|condition_status_concept_id|stop_reason|provider_id|visit_occurrence_id|visit_detail_id|condition_source_value|condition_source_concept_id|condition_status_source_value|\n",
      "+---------+-----------------------+------------------------------+--------------------+--------------------+------------------------+------------------+----------------------+-------------------------+---------------------------+-----------+-----------+-------------------+---------------+----------------------+---------------------------+-----------------------------+\n",
      "|  2995730|           944892806327|                      21770277|             4086195|                null|     2013-10-08 08:00:00|              null|   2013-10-08 08:00:00|                    32019|                       null|       null|     395968|           13780677|           null|              S00.80XA|                   45558513|                         null|\n",
      "|  3312898|          1288495064774|                     335493083|              443200|                null|     2019-04-19 08:00:00|              null|                  null|                 45756836|                       null|       null|       null|               null|           null|               R29.818|                   45568125|                         null|\n",
      "|  5503385|          1709401708015|                     776669850|              312437|                null|     2022-02-16 10:00:00|              null|                  null|                 45756836|                       null|       null|       null|               null|           null|                R06.02|                   45534422|                         null|\n",
      "|  5503385|           438090421501|                     785193074|             4310679|                null|     2022-03-15 08:00:00|              null|                  null|                 45756836|                       null|       null|       null|               null|           null|              85561006|                    4310679|                         null|\n",
      "|  5503385|          1219773599607|                     766044268|             4276526|                null|     2022-01-10 10:00:00|              null|                  null|                 45756836|                       null|       null|       null|               null|           null|              65568007|                    4276526|                         null|\n",
      "|  5503385|          1219775169416|                     785449027|             4209423|                null|     2022-03-12 10:00:00|              null|                  null|                 45756836|                       null|       null|       null|               null|           null|              56294008|                    4209423|                         null|\n",
      "|  5503385|          1133875149949|                     701325357|            37016348|                null|     2021-07-05 08:00:00|              null|                  null|                 45756836|                       null|       null|       null|               null|           null|       367991000119101|                   37016348|                         null|\n",
      "|  5503385|           824639166532|                     776359529|            36684941|                null|     2022-02-13 10:00:00|              null|                  null|                 45756836|                       null|       null|       null|               null|           null|       459311000124104|                   36684941|                         null|\n",
      "|  5503385|           773099408002|                     474463336|              436389|                null|     2020-02-24 10:00:00|              null|   2020-03-01 10:00:00|                  3009860|                       null|       null|    1709131|          186166898|           null|                F14.20|                   45566799|                         null|\n",
      "|  5503385|          1331442381762|                     474491309|              441260|                null|     2020-02-24 10:00:00|              null|   2020-02-24 10:00:00|                    32019|                       null|       null|    1059961|          186166898|           null|             363101005|                     441260|                         null|\n",
      "|  5503385|           240520400479|                     776145981|              201826|                null|     2022-02-16 10:00:00|              null|   2022-02-16 10:00:00|                    32019|                       null|       null|    1329059|          276524052|           null|                E11.10|                    1326492|                         null|\n",
      "|  5503385|          1228361312505|                     787027413|              255573|                null|     2022-03-13 09:00:00|              null|   2022-03-23 08:00:00|                    32020|                       null|       null|     443478|          279403476|           null|              13645005|                     255573|                         null|\n",
      "|  5503385|           687197381611|                     787195927|              192963|                null|     2022-03-13 09:00:00|              null|   2022-03-23 08:00:00|                    32020|                       null|       null|     443478|          279403476|           null|                 K86.9|                   35208399|                         null|\n",
      "|  5503385|            60132361690|                     695918273|              197320|                null|     2021-07-06 08:00:00|              null|   2021-07-06 08:00:00|                    32019|                      32902|       null|    1734667|          249811312|           null|                 N17.9|                   35209273|                         null|\n",
      "|  5503385|           687197381300|                     774781160|             4178452|                null|     2022-02-15 10:00:00|              null|   2022-02-15 10:00:00|                    32020|                       null|       null|    1059961|          276013742|           null|              51002006|                    4178452|                         null|\n",
      "|  5503385|          1580551123066|                     768267888|              438120|                null|     2022-01-09 10:00:00|              null|   2022-01-14 10:00:00|                    32019|                       null|       null|       null|          272504552|           null|                F11.20|                   45586193|                         null|\n",
      "|  5503385|          1417340477365|                     768152069|              255573|                null|     2022-01-09 10:00:00|              null|   2022-01-14 10:00:00|                    32019|                       null|       null|       null|          272504552|           null|                 J44.9|                   35208025|                         null|\n",
      "|  5503385|           335010691012|                     474265251|              435243|                null|     2020-02-24 10:00:00|              null|   2020-02-25 10:00:00|                  3020908|                       null|       null|     460857|          186167046|           null|               F10.220|                   45586188|                         null|\n",
      "|  5503385|           910534511931|                     256832400|               78232|                null|     2018-10-31 08:00:00|              null|   2018-10-31 08:00:00|                  3020908|                       null|       null|     432963|          115369850|           null|               M25.512|                   45591808|                         null|\n",
      "|  5506757|            77312112287|                     137435186|              257011|                null|     2018-02-25 10:00:00|              null|   2018-02-25 10:00:00|                  3020908|                       null|       null|    1810560|           93086464|           null|                 J06.9|                   35207929|                         null|\n",
      "+---------+-----------------------+------------------------------+--------------------+--------------------+------------------------+------------------+----------------------+-------------------------+---------------------------+-----------+-----------+-------------------+---------------+----------------------+---------------------------+-----------------------------+\n",
      "only showing top 20 rows\n",
      "\n"
     ]
    }
   ],
   "source": [
    "condition_occurrence = merge_files(\"/home/jupyter/omop-ed-datapipeline/condition_occurrence\")"
   ]
  },
  {
   "cell_type": "code",
   "execution_count": 11,
   "id": "007ef9ba-3b5b-408e-a306-67b1e5cfd0a4",
   "metadata": {},
   "outputs": [
    {
     "name": "stdout",
     "output_type": "stream",
     "text": [
      "(5163252, 2)\n",
      "+-------------------+--------+\n",
      "|visit_occurrence_id|     csn|\n",
      "+-------------------+--------+\n",
      "|            2300962|80127093|\n",
      "|            5545132|83800838|\n",
      "|            5587027|84707888|\n",
      "|            5637133|84707562|\n",
      "|            5811464|84461443|\n",
      "|            5843367|84401342|\n",
      "|            5875153|84424156|\n",
      "|            5903271|84427474|\n",
      "|            5933440|84433633|\n",
      "|            5935435|84436258|\n",
      "|            6070814|83913972|\n",
      "|            6078174|84991842|\n",
      "|            6083802|84632597|\n",
      "|            6086650|84632655|\n",
      "|            6094816|84956336|\n",
      "|            6139406|84507917|\n",
      "|            6140286|84631425|\n",
      "|            6140288|84631532|\n",
      "|            6147863|84922709|\n",
      "|            6150423|84632605|\n",
      "+-------------------+--------+\n",
      "only showing top 20 rows\n",
      "\n"
     ]
    }
   ],
   "source": [
    "csn_map = merge_files(\"/home/jupyter/omop-ed-datapipeline/csn_map\")"
   ]
  },
  {
   "cell_type": "code",
   "execution_count": 12,
   "id": "eb9a7627-173e-41ed-b7b6-f14d16e90292",
   "metadata": {},
   "outputs": [
    {
     "name": "stdout",
     "output_type": "stream",
     "text": [
      "(48, 3)\n",
      "+-------------------+--------------------+-----------------+\n",
      "|          domain_id|         domain_name|domain_concept_id|\n",
      "+-------------------+--------------------+-----------------+\n",
      "|               Cost|                Cost|           581456|\n",
      "|   Condition/Device|    Condition/Device|              235|\n",
      "|             Gender|              Gender|                2|\n",
      "|               Race|                Race|                3|\n",
      "|          Ethnicity|           Ethnicity|                4|\n",
      "|           Metadata|            Metadata|                7|\n",
      "|              Visit|               Visit|                8|\n",
      "|          Procedure|           Procedure|               10|\n",
      "|           Modifier|            Modifier|               12|\n",
      "|               Drug|                Drug|               13|\n",
      "|              Route|Route Of Administ...|               15|\n",
      "|               Unit|                Unit|               16|\n",
      "|             Device|              Device|               17|\n",
      "|          Condition|           Condition|               19|\n",
      "|        Measurement|         Measurement|               21|\n",
      "|Meas Value Operator|Measurement Value...|               23|\n",
      "|         Meas Value|   Measurement Value|               24|\n",
      "|        Observation|         Observation|               27|\n",
      "|       Relationship|        Relationship|               31|\n",
      "|   Place of Service|    Place of Service|               32|\n",
      "+-------------------+--------------------+-----------------+\n",
      "only showing top 20 rows\n",
      "\n"
     ]
    }
   ],
   "source": [
    "domain = merge_files(\"/home/jupyter/omop-ed-datapipeline/domain\")"
   ]
  },
  {
   "cell_type": "code",
   "execution_count": 13,
   "id": "ecbb0cab-10fe-4c7a-9180-b93c3a5cbcd4",
   "metadata": {},
   "outputs": [
    {
     "name": "stderr",
     "output_type": "stream",
     "text": [
      "                                                                                \r"
     ]
    },
    {
     "name": "stdout",
     "output_type": "stream",
     "text": [
      "(17548618, 27)\n"
     ]
    },
    {
     "name": "stderr",
     "output_type": "stream",
     "text": [
      "22/06/07 18:13:29 WARN package: Truncated the string representation of a plan since it was too large. This behavior can be adjusted by setting 'spark.sql.debug.maxToStringFields'.\n",
      "22/06/07 18:13:30 WARN DAGScheduler: Broadcasting large task binary with size 1201.7 KiB\n",
      "22/06/07 18:13:31 WARN DAGScheduler: Broadcasting large task binary with size 1201.7 KiB\n"
     ]
    },
    {
     "name": "stdout",
     "output_type": "stream",
     "text": [
      "+---------+----------------+---------------+------------------------+----------------------------+----------------------+--------------------------+-----------------+--------------------+-----------+-------+--------+-----------+--------------------+----------------+----------+-----------+-------------------+---------------+----------------------+----------------------+------------------------------+------------------------------+----------------------+------------------+----------------------+-----------------------+\n",
      "|person_id|drug_exposure_id|drug_concept_id|drug_exposure_start_date|drug_exposure_start_datetime|drug_exposure_end_date|drug_exposure_end_datetime|verbatim_end_date|drug_type_concept_id|stop_reason|refills|quantity|days_supply|                 sig|route_concept_id|lot_number|provider_id|visit_occurrence_id|visit_detail_id|drug_source_value_code|drug_source_value_name|drug_generic_source_value_code|drug_generic_source_value_name|drug_source_concept_id|route_source_value|dose_unit_source_value|drug_class_source_value|\n",
      "+---------+----------------+---------------+------------------------+----------------------------+----------------------+--------------------------+-----------------+--------------------+-----------+-------+--------+-----------+--------------------+----------------+----------+-----------+-------------------+---------------+----------------------+----------------------+------------------------------+------------------------------+----------------------+------------------+----------------------+-----------------------+\n",
      "|  5965979|      mo59255253|       42800464|                    null|         2019-02-25 23:30:00|                  null|       2019-02-25 23:38:00|             null|            38000177|       null|   null|    null|       null|                null|         4302612|      null|     555235|          124641175|           null|               1300206|  DIPHTH,PERTUS(ACE...|                        554368|          diph,pertuss(acel...|                 39043|     Intramuscular|                    mL|   Toxoid Vaccine Co...|\n",
      "|  6238136|     md119910835|       19135154|                    null|         2021-12-30 19:27:00|                  null|                      null|             null|            38000175|       null|   null|    null|       null|                null|            null|      null|       null|          271542924|           null|                846101|  DOXYCYCLINE TAB/C...|                        290164|           doxycycline hyclate|                154494|              null|                  null|   Tetracycline Anti...|\n",
      "|  6238136|     ma136079700|        1177770|                    null|         2022-03-07 23:15:00|                  null|                      null|             null|            38000179|       null|   null|   600.0|       null|                null|         4132161|      null|       null|          278367764|           null|                351392|  IBUPROFEN 600 MG ...|                        275877|                     ibuprofen|                  1656|              Oral|                    mg|   NSAID Analgesics ...|\n",
      "|  6839715|      mo65332782|       40226999|                    null|         2018-07-14 01:24:00|                  null|                      null|             null|            38000177|       null|   null|    null|       null|                null|            null|      null|         -1|          105788498|           null|               1011705|  LIDOCAINE 5 % ADH...|                        246336|                     lidocaine|                  1329|              null|          *Unspecified|   Dermatological - ...|\n",
      "|  7896282|     ma117755760|           null|                    null|         2021-03-17 19:12:00|                  null|                      null|             null|            38000179|       null|   null|     8.0|       null|                null|         4225555|      null|       null|          235537203|           null|         99999-0049-07|  BUPIVACAINE (PF) ...|                          null|                          null|                129545|          Epidural|                    mL|   Local Anesthetic ...|\n",
      "|  8204796|     mo106639180|       46287725|                    null|         2020-10-11 03:53:00|                  null|       2020-10-14 07:59:00|             null|            38000177|       null|      0|     5.0|       null|Take 1 tablet (5 ...|         4132161|      null|    1811773|          216384711|           null|               1664448|  OXYCODONE IMMEDIA...|                        298962|                 oxycodone HCl|                   223|              Oral|                    mg|   Analgesic Opioid ...|\n",
      "|  8216076|     me181341513|       19033687|                    null|         2021-03-21 23:46:00|                  null|       2021-03-21 23:46:00|             null|            38000179|       null|   null|    null|       null|                null|         4171047|      null|    1596514|          236372344|           null|                206864|  FAMOTIDINE (PF) 2...|                        553169|                 famotidine/PF|                 14835|           IV Push|                    mg|   Gastric Acid Secr...|\n",
      "|  8369071|     ma118136989|           null|                    null|         2021-03-25 14:33:00|                  null|                      null|             null|            38000179|       null|   null|    1.25|       null|                null|         4171047|      null|       null|          236706712|           null|                  null|  VANCOMYCIN IVPB (...|                          null|                          null|                 44898|       Intravenous|                     g|                   null|\n",
      "|  8456685|      mo57038742|       19011914|                    null|         2018-12-23 00:37:00|                  null|       2019-03-27 22:40:00|             null|            38000177|       null|      3|    30.0|       null|Take 1 tablet (1,...|         4132161|      null|         -1|          119846548|           null|                211869|  ASCORBIC ACID (VI...|                        159287|                 ascorbic acid|                  7135|              Oral|                    mg|   Vitamins - C, Asc...|\n",
      "|  8456685|      mo61552034|       45313768|                    null|         2018-09-03 19:39:00|                  null|       2018-09-03 20:38:00|             null|            38000177|       null|   null|    null|       null|                null|            null|      null|         -1|          110646913|           null|          64334-1122-1|  LISSAMINE GREEN 1...|                        546166|               lissamine green|                 52488|              null|          *Unspecified|   Ophthalmic - Diag...|\n",
      "|  8476415|      me95581240|       45892053|                    null|         2016-04-29 08:00:00|                  null|                      null|             null|            38000177|       null|   null|    null|       null|                null|            null|      null|         -1|           50446210|           null|               1600991|  ASPIRIN 81 MG TAB...|                        205780|                       aspirin|                  2426|              null|                    mg|   Salicylate Analge...|\n",
      "|  9576467|     ma115420942|         792688|                    null|         2021-01-29 15:05:00|                  null|                      null|             null|            38000179|       null|   null|   650.0|       null|                null|         4132161|      null|       null|          229995134|           null|               1986337|  ACETAMINOPHEN 325...|                        160401|                 acetaminophen|                 21297|              Oral|                    mg|   Analgesic or Anti...|\n",
      "|  9944734|      mo76006444|         792688|                    null|         2020-01-27 17:15:00|                  null|       2020-01-27 17:51:00|             null|            38000177|       null|   null|    null|       null|                null|         4132161|      null|     158549|          183943273|           null|               1986337|  ACETAMINOPHEN 325...|                        160401|                 acetaminophen|                 21297|              Oral|                    mg|   Analgesic or Anti...|\n",
      "| 10682075|      mo49950414|        1177770|                    null|         2018-05-29 23:38:00|                  null|       2021-06-14 23:16:00|             null|            38000177|       null|      0|    30.0|       null|Take 1 tablet (60...|         4132161|      null|     416196|          102102622|           null|                351392|  IBUPROFEN 600 MG ...|                        275877|                     ibuprofen|                  1656|              Oral|                    mg|   NSAID Analgesics ...|\n",
      "| 10689166|      md42926788|       40168116|                    null|         2016-12-03 11:23:00|                  null|                      null|             null|            38000175|       null|   null|    null|       null|                null|            null|      null|       null|           61676684|           null|                876690|  ONDANSETRON 4 MG ...|                        285288|                   ondansetron|                  1287|              null|                  null|   Antiemetic - Sele...|\n",
      "| 10697805|      mo35810191|       19005923|                    null|         2017-03-01 00:00:00|                  null|       2017-03-01 00:03:00|             null|            38000177|       null|   null|    null|       null|                null|         4132161|      null|     424714|           66201502|           null|                104876|  METOCLOPRAMIDE 5 ...|                        190223|            metoclopramide HCl|                 29059|              Oral|                    mg|   Gastrointestinal ...|\n",
      "| 10729776|     ma137358882|       40168116|                    null|         2022-04-02 00:13:00|                  null|                      null|             null|            38000179|       null|   null|     4.0|       null|                null|         4132161|      null|       null|          281740601|           null|                876690|  ONDANSETRON 4 MG ...|                        285288|                   ondansetron|                  1287|              Oral|                    mg|   Antiemetic - Sele...|\n",
      "| 10733043|      mo52603222|         998001|                    null|         2018-08-17 21:10:00|                  null|       2018-08-25 07:59:00|             null|            38000177|       null|      0|    56.0|       null|Take 2 capsules (...|         4132161|      null|     471630|          109705026|           null|                748746|  CLINDAMYCIN HCL 1...|                        193624|               clindamycin HCl|                   902|              Oral|                    mg|   Lincosamide Antib...|\n",
      "| 10750238|       mo6524699|       40237573|                    null|         2013-11-17 14:45:00|                  null|       2013-11-17 14:45:00|             null|            38000177|       null|   null|    null|       null|                null|         4132161|      null|     448319|           15592869|           null|               1095636|  ACETAMINOPHEN 160...|                        559647|                 acetaminophen|                 30849|              Oral|                 mg/kg|   Analgesic or Anti...|\n",
      "| 10750238|     me109319429|           null|                    null|         2013-11-17 10:00:00|                  null|                      null|             null|            38000177|       null|   null|    null|       null|                null|            null|      null|         -1|           15592869|           null|                  null|           MOTRIN ORAL|                        173420|                     ibuprofen|                 41789|              null|          *Unspecified|   NSAID Analgesics ...|\n",
      "+---------+----------------+---------------+------------------------+----------------------------+----------------------+--------------------------+-----------------+--------------------+-----------+-------+--------+-----------+--------------------+----------------+----------+-----------+-------------------+---------------+----------------------+----------------------+------------------------------+------------------------------+----------------------+------------------+----------------------+-----------------------+\n",
      "only showing top 20 rows\n",
      "\n"
     ]
    }
   ],
   "source": [
    "drug_exposure = merge_files(\"/home/jupyter/omop-ed-datapipeline/drug_exposure\")"
   ]
  },
  {
   "cell_type": "code",
   "execution_count": 14,
   "id": "c47433b2-9afd-4afc-a2d0-92128e5dd300",
   "metadata": {},
   "outputs": [
    {
     "name": "stdout",
     "output_type": "stream",
     "text": [
      "(2918520, 12)\n",
      "+---------------+---------------------+------------+----------------------+---------------+-------------------------+-----------------+---------------------------+--------+----------------+--------------+--------------+\n",
      "|drug_concept_id|ingredient_concept_id|amount_value|amount_unit_concept_id|numerator_value|numerator_unit_concept_id|denominator_value|denominator_unit_concept_id|box_size|valid_start_date|valid_end_date|invalid_reason|\n",
      "+---------------+---------------------+------------+----------------------+---------------+-------------------------+-----------------+---------------------------+--------+----------------+--------------+--------------+\n",
      "|       36268263|              1119510|        null|                  null|            1.5|                     8576|             null|                       8587|    null|      2018-08-02|    2099-12-31|          null|\n",
      "|       43189893|              1351557|         8.0|                  8576|           null|                     null|             null|                       null|      30|      2018-08-02|    2099-12-31|          null|\n",
      "|       42731481|             19124906|        null|                  null|           0.63|                     8576|             null|                       8587|      10|      2018-08-02|    2099-12-31|          null|\n",
      "|       40932627|             19056508|        null|                  null|          0.003|                     8576|             null|                       8587|      20|      2018-08-02|    2099-12-31|          null|\n",
      "|       43214729|             19025274|        null|                  null|          100.0|                     8554|         100000.0|                       null|       1|      2018-08-02|    2099-12-31|          null|\n",
      "|       41448267|             19008864|        null|                  null|         3810.0|                     8576|           1000.0|                       8587|       6|      2018-08-02|    2099-12-31|          null|\n",
      "|       43285976|              1301025|        null|                  null|          100.0|                     8576|              1.0|                       8587|      10|      2018-08-02|    2099-12-31|          null|\n",
      "|       43687895|             19103483|        null|                  null|          500.0|                     8576|           1000.0|                       8587|    null|      2018-08-02|    2099-12-31|          null|\n",
      "|       41006680|              1139042|        null|                  null|            0.5|                     8576|             null|                       8587|    null|      2018-08-02|    2099-12-31|          null|\n",
      "|       41467454|             19017671|        null|                  null|          360.0|                     8576|           3000.0|                       8576|    null|      2018-08-02|    2099-12-31|          null|\n",
      "|       44211674|             43526082|        null|                  null|         1010.0|                     8576|         101000.0|                       8576|      10|      2018-08-02|    2099-12-31|          null|\n",
      "|       40948894|              1341927|         5.0|                  8576|           null|                     null|             null|                       null|     100|      2018-08-02|    2099-12-31|          null|\n",
      "|       41322478|              1177480|       600.0|                  8576|           null|                     null|             null|                       null|      50|      2018-08-02|    2099-12-31|          null|\n",
      "|       41380338|             42904067|        null|                  null|          200.0|                     8576|             20.0|                       8587|       1|      2018-08-02|    2099-12-31|          null|\n",
      "|       41414440|             19095564|        null|                  null|          800.0|                     8576|            100.0|                       8587|       1|      2018-08-02|    2099-12-31|          null|\n",
      "|       43591697|               922976|        null|                  null|           50.0|                     8576|          10000.0|                       8576|    null|      2018-08-02|    2099-12-31|          null|\n",
      "|       41085565|               974166|        12.5|                  8576|           null|                     null|             null|                       null|      50|      2018-08-02|    2099-12-31|          null|\n",
      "|       43186803|             19009874|        null|                  null|          800.0|                     8576|          80000.0|                       8576|       1|      2018-08-02|    2099-12-31|          null|\n",
      "|       43699287|               732893|        null|                  null|           20.0|                     8576|              4.0|                       8587|      10|      2018-08-02|    2099-12-31|          null|\n",
      "|       44182417|               929887|        30.0|                  8576|           null|                     null|             null|                       null|      98|      2018-08-02|    2099-12-31|          null|\n",
      "+---------------+---------------------+------------+----------------------+---------------+-------------------------+-----------------+---------------------------+--------+----------------+--------------+--------------+\n",
      "only showing top 20 rows\n",
      "\n"
     ]
    }
   ],
   "source": [
    "drug_strength = merge_files(\"/home/jupyter/omop-ed-datapipeline/drug_strength\")"
   ]
  },
  {
   "cell_type": "code",
   "execution_count": 15,
   "id": "2f698e8c-f8d6-4dd9-b877-30a1623d6c23",
   "metadata": {},
   "outputs": [
    {
     "name": "stdout",
     "output_type": "stream",
     "text": [
      "(396108, 11)\n",
      "+--------------------+--------------------+---------+--------------+-----+-----+------------+--------------------+---------------------+--------+---------+\n",
      "|         location_id|           address_1|address_2|          city|state|  zip|      county|             country|location_source_value|latitude|longitude|\n",
      "+--------------------+--------------------+---------+--------------+-----+-----+------------+--------------------+---------------------+--------+---------+\n",
      "|00034230c7f4692ed...| 49 WILSON ST 2ND FL|     null|     NEW HAVEN|   CT|06519|   NEW HAVEN|United States of ...|                 null|    null|     null|\n",
      "|000543580bd72c55d...|511 Woodward Ave ...|     null|     NEW HAVEN|   CT|06512|   NEW HAVEN|United States of ...|                 null|    null|     null|\n",
      "|0005da45a893db89e...|35 HAMDEN HILLS D...|     null|        HAMDEN|   CT|06518|   NEW HAVEN|United States of ...|                 null|    null|     null|\n",
      "|00170478b87d69dc3...|1173 Quinnipac av...|     null|     NEW HAVEN|   CT|06513|   NEW HAVEN|United States of ...|                 null|    null|     null|\n",
      "|002598b862c2efe9b...|         18 NORTH ST|     null|    WEST HAVEN|   CT|06516|   NEW HAVEN|United States of ...|                 null|    null|     null|\n",
      "|00288a72c83773a6f...|      386 Elm street|     null|    WEST HAVEN|   CT|06516|   NEW HAVEN|United States of ...|                 null|    null|     null|\n",
      "|0032c9c4785f3e094...|    80 Morris street|     null|    WEST HAVEN|   CT|06516|   NEW HAVEN|United States of ...|                 null|    null|     null|\n",
      "|003f3c25ec69886c0...|282 QUINNIPIAC AV...|     null|     NEW HAVEN|   CT|06513|   NEW HAVEN|United States of ...|                 null|    null|     null|\n",
      "|004246313c2a689e0...|   356 PRINCETON AVE|     null|      HILLSIDE|   NJ|07205|       UNION|United States of ...|                 null|    null|     null|\n",
      "|0048f56337873cd6d...|   21 Stonewall Lane|     null|      BRANFORD|   CT|06405|   NEW HAVEN|United States of ...|                 null|    null|     null|\n",
      "|00566c799ad2dc075...|327 Greenwich Avenue|     null|     NEW HAVEN|   CT|06519|   NEW HAVEN|United States of ...|                 null|    null|     null|\n",
      "|005760743aff22f8e...|    18-1 Cresent St.|     null|     WATERBURY|   CT|06710|   NEW HAVEN|United States of ...|                 null|    null|     null|\n",
      "|0057c44fe2507b49c...|48 putting green ...|     null|      prospect|   CT|06712|*Unspecified|United States of ...|                 null|    null|     null|\n",
      "|0069eee543d3875b5...|    10 CHESTNUT LANE|     null|   WALLINGFORD|   CT|06492|   NEW HAVEN|United States of ...|                 null|    null|     null|\n",
      "|0070133597d987ed7...|    148 WEST PARKWAY|     null|POMPTON PLAINS|   NJ|07444|      MORRIS|United States of ...|                 null|    null|     null|\n",
      "|0071be2ec67f23629...|18 Tower Lane  Ap...|     null|     NEW HAVEN|   CT|06519|   NEW HAVEN|United States of ...|                 null|    null|     null|\n",
      "|0074071e12a53a936...|224 WILLILAMS STREET|     null|    WEST HAVEN|   CT|06516|   NEW HAVEN|United States of ...|                 null|    null|     null|\n",
      "|007541e977d0cefa1...|8009 North West 2...|     null|       BETHANY|   OK|73008|    OKLAHOMA|United States of ...|                 null|    null|     null|\n",
      "|007c45c92016de9aa...|27 Lilac Street A...|     null|     NEW HAVEN|   CT|06511|   NEW HAVEN|United States of ...|                 null|    null|     null|\n",
      "|0082aeae43e365440...|1166 dixwell ave ...|     null|     NEW HAVEN|   CT|06511|   NEW HAVEN|United States of ...|                 null|    null|     null|\n",
      "+--------------------+--------------------+---------+--------------+-----+-----+------------+--------------------+---------------------+--------+---------+\n",
      "only showing top 20 rows\n",
      "\n"
     ]
    }
   ],
   "source": [
    "location = merge_files(\"/home/jupyter/omop-ed-datapipeline/location\")"
   ]
  },
  {
   "cell_type": "code",
   "execution_count": 4,
   "id": "349d94c9-de98-4399-acc0-297775e849b8",
   "metadata": {},
   "outputs": [
    {
     "name": "stderr",
     "output_type": "stream",
     "text": [
      "                                                                                \r"
     ]
    },
    {
     "name": "stdout",
     "output_type": "stream",
     "text": [
      "(114649770, 24)\n"
     ]
    },
    {
     "name": "stderr",
     "output_type": "stream",
     "text": [
      "22/06/17 15:26:48 WARN DAGScheduler: Broadcasting large task binary with size 4.3 MiB\n",
      "22/06/17 15:26:49 WARN DAGScheduler: Broadcasting large task binary with size 4.3 MiB\n"
     ]
    },
    {
     "name": "stdout",
     "output_type": "stream",
     "text": [
      "+---------+---------------+-----------+----------------------+----------------+--------------------+-------------------+----------------+---------------------------+-------------------+---------------+---------------+-------------------+---------------+---------+----------+-----------+-------------------+---------------+------------------------+----------------------------+-----------------------------+-----------------+--------------------+\n",
      "|person_id| measurement_id|specimen_id|measurement_concept_id|measurement_date|measurement_datetime|     order_datetime|measurement_time|measurement_type_concept_id|operator_concept_id|value_as_number|value_as_string|value_as_concept_id|unit_concept_id|range_low|range_high|provider_id|visit_occurrence_id|visit_detail_id|measurement_source_value|measurement_source_value_alt|measurement_source_concept_id|unit_source_value|  value_source_value|\n",
      "+---------+---------------+-----------+----------------------+----------------+--------------------+-------------------+----------------+---------------------------+-------------------+---------------+---------------+-------------------+---------------+---------+----------+-----------+-------------------+---------------+------------------------+----------------------------+-----------------------------+-----------------+--------------------+\n",
      "|  5539443|      406104940|   69855988|              35609599|            null| 2018-09-06 01:37:00|2018-09-06 01:30:00|            null|                   44818702|               null|          0.255|           null|               null|           null|     null|      null|    1121677|          110774824|           null|          Breath Alcohol|              BREATH ALCOHOL|                          240|                 |               0.255|\n",
      "|  5595227|   fs5077742959|       null|               3032445|            null| 2020-01-13 21:38:00|               null|            null|                       null|               null|           52.3|           null|               null|           9529|     null|      null|      79761|          182963517|           null|    IBW/kg (Calculate...|                        null|                      7074308|               kg|                52.3|\n",
      "|  5625453|      734436927|  149953196|               3039896|            null| 2022-05-08 23:22:00|2022-05-08 21:07:00|            null|                   44818702|               null|           null|           null|           45881916|           null|     null|      null|    1677110|          285687560|           null|             Glucose, UA|                  GLUCOSE UA|                        10781|                 |                  2+|\n",
      "|  5625453|      734455844|  149956444|               3006906|            null| 2022-05-08 21:56:00|2022-05-08 20:56:00|            null|                   44818702|               null|            9.2|           null|               null|           8840|      8.8|      null|    1677110|          285687560|           null|                 Calcium|                     CALCIUM|                          590|            mg/dL|                 9.2|\n",
      "|  5625453|      734436847|  149969039|              42869452|            null| 2022-05-08 21:33:00|2022-05-08 20:56:00|            null|                   44818702|               null|            0.3|           null|               null|           8554|      0.0|      null|    1677110|          285687560|           null|    Immature Granuloc...|        IMMATURE GRANULOC...|                        17196|                %|                 0.3|\n",
      "|  5886540|      530640534|   92733131|               3004501|            null| 2019-12-11 04:15:00|2019-12-11 04:05:00|            null|                   44818702|               null|          117.0|           null|               null|           8840|     null|      null|    1674789|          180913059|           null|         Glucose, Manual|             GLUCOSE, MANUAL|                        20828|            mg/dL|                 117|\n",
      "|  5886540|fs2354427770sys|       null|               4152194|            null| 2017-02-24 20:48:00|               null|            null|                       null|               null|          122.0|           null|               null|           null|     null|      null|      13555|           65980074|           null|             BP Systolic|                        null|                   3043430602|                 |                 122|\n",
      "|  5942486|      585502394|  106625364|               3009744|            null| 2020-11-06 03:43:00|2020-11-06 03:12:00|            null|                   44818702|               null|           32.9|           null|               null|           8713|     31.0|      null|    1701453|          219206422|           null|                    MCHC|                        MCHC|                        17191|             g/dL|                32.9|\n",
      "|  6066657|      435121352|   75333389|               3041084|            null| 2019-01-15 18:55:00|2019-01-15 18:38:00|            null|                   44818702|               null|            0.0|           null|               null|           8848|      0.0|       0.3|    1474415|          121403272|           null|    Absolute Immature...|        IMMATURE GRANS (ABS)|                        17596|          10*3/uL|                 0.0|\n",
      "|  6157718|      613095094|  117265978|               3035995|            null| 2021-02-24 03:12:00|2021-02-24 02:26:00|            null|                   44818702|               null|          113.0|           null|               null|           8645|      9.0|    1229.0|    1676370|          233109362|           null|    Alkaline Phosphatase|                    ALK PHOS|                        11740|            [U]/L|                 113|\n",
      "|  6242679|   fs2165908064|       null|               4313591|            null| 2016-11-15 06:18:00|               null|            null|                       null|               null|           18.0|           null|               null|           null|     null|      null|      45757|           60741461|           null|                    Resp|                        null|                            9|                 |                  18|\n",
      "|  6242679|   fs6872468904|       null|               4239408|            null| 2021-08-01 10:31:00|               null|            null|                       null|               null|           43.0|           null|               null|           null|     null|      null|     101064|          253205590|           null|                   Pulse|                        null|                            8|                 |                  43|\n",
      "|  6313156|   fs4600799010|       null|               4239408|            null| 2019-07-21 19:46:00|               null|            null|                       null|               null|           65.0|           null|               null|           null|     null|      null|       4446|          155990937|           null|                   Pulse|                        null|                            8|                 |                  65|\n",
      "|  6638666|   fs3713824168|       null|               3001376|            null| 2018-09-22 18:17:00|               null|            null|                       null|               null|           79.0|           null|               null|           null|     null|      null|       2234|          111975991|           null|          Pulse (O2 sat)|                        null|                     11289201|                 |                  79|\n",
      "|  6638666|   fs3707675717|       null|               4313591|            null| 2018-09-20 04:44:00|               null|            null|                       null|               null|           18.0|           null|               null|           null|     null|      null|      48260|          111848934|           null|                    Resp|                        null|                            9|                 |                  18|\n",
      "|  6638666|   fs3716025282|       null|               3001376|            null| 2018-09-22 17:44:00|               null|            null|                       null|               null|           89.0|           null|               null|           null|     null|      null|       2234|          111975991|           null|          Pulse (O2 sat)|                        null|                     11289201|                 |                  89|\n",
      "|  6638666|   fs3713446470|       null|               4239408|            null| 2018-09-22 01:11:00|               null|            null|                       null|               null|           84.0|           null|               null|           null|     null|      null|       2234|          111969979|           null|                   Pulse|                        null|                          892|                 |                  84|\n",
      "|  6638666|   fs3715145456|       null|               3008223|            null| 2018-09-22 01:03:00|               null|            null|                       null|               null|           null|           null|               null|           null|     null|      null|      41618|          111848934|           null|     Best Motor Response|                        null|                         6963|                 |6-->(M6) obeys co...|\n",
      "|  6638666|   fs3713334143|       null|               3001376|            null| 2018-09-22 01:06:00|               null|            null|                       null|               null|           98.0|           null|               null|           null|     null|      null|       2234|          111969979|           null|          Pulse (O2 sat)|                        null|                     11289201|                 |                  98|\n",
      "|  6638666|   fs3713893792|       null|              40483579|            null| 2018-09-22 00:14:00|               null|            null|                       null|               null|           null|           null|               null|           null|     null|      null|      32644|          111848934|           null|           O2 Saturation|                        null|                       681964|                 |2-->able to maint...|\n",
      "+---------+---------------+-----------+----------------------+----------------+--------------------+-------------------+----------------+---------------------------+-------------------+---------------+---------------+-------------------+---------------+---------+----------+-----------+-------------------+---------------+------------------------+----------------------------+-----------------------------+-----------------+--------------------+\n",
      "only showing top 20 rows\n",
      "\n"
     ]
    }
   ],
   "source": [
    "measurement = merge_files(\"/home/jupyter/omop-ed-datapipeline/measurement\", spark)"
   ]
  },
  {
   "cell_type": "code",
   "execution_count": 6,
   "id": "2dfa8c6e-cdb6-4a86-b14d-14455eaf981a",
   "metadata": {},
   "outputs": [
    {
     "name": "stderr",
     "output_type": "stream",
     "text": [
      "22/06/17 15:28:35 WARN DAGScheduler: Broadcasting large task binary with size 4.4 MiB\n",
      "22/06/17 15:28:35 WARN DAGScheduler: Broadcasting large task binary with size 4.4 MiB\n",
      "22/06/17 15:28:35 WARN DAGScheduler: Broadcasting large task binary with size 4.4 MiB\n",
      "22/06/17 15:28:36 WARN DAGScheduler: Broadcasting large task binary with size 4.4 MiB\n",
      "22/06/17 15:28:39 WARN DAGScheduler: Broadcasting large task binary with size 4.4 MiB\n",
      "22/06/17 15:28:56 WARN DAGScheduler: Broadcasting large task binary with size 4.4 MiB\n",
      "[Stage 430:===================================================> (171 + 4) / 175]\r"
     ]
    },
    {
     "name": "stdout",
     "output_type": "stream",
     "text": [
      "+---------+--------------+-----------+----------------------+----------------+--------------------+--------------+----------------+---------------------------+-------------------+---------------+---------------+-------------------+---------------+---------+----------+-----------+-------------------+---------------+------------------------+----------------------------+-----------------------------+-----------------+------------------+\n",
      "|person_id|measurement_id|specimen_id|measurement_concept_id|measurement_date|measurement_datetime|order_datetime|measurement_time|measurement_type_concept_id|operator_concept_id|value_as_number|value_as_string|value_as_concept_id|unit_concept_id|range_low|range_high|provider_id|visit_occurrence_id|visit_detail_id|measurement_source_value|measurement_source_value_alt|measurement_source_concept_id|unit_source_value|value_source_value|\n",
      "+---------+--------------+-----------+----------------------+----------------+--------------------+--------------+----------------+---------------------------+-------------------+---------------+---------------+-------------------+---------------+---------+----------+-----------+-------------------+---------------+------------------------+----------------------------+-----------------------------+-----------------+------------------+\n",
      "+---------+--------------+-----------+----------------------+----------------+--------------------+--------------+----------------+---------------------------+-------------------+---------------+---------------+-------------------+---------------+---------+----------+-----------+-------------------+---------------+------------------------+----------------------------+-----------------------------+-----------------+------------------+\n",
      "\n"
     ]
    },
    {
     "name": "stderr",
     "output_type": "stream",
     "text": [
      "                                                                                \r"
     ]
    }
   ],
   "source": [
    "measurement2 = measurement.where(measurement.value_source_value.contains('GCS'))\n",
    "measurement2.show()"
   ]
  },
  {
   "cell_type": "code",
   "execution_count": 17,
   "id": "12d811a2-a164-430f-b04e-748f2bd1d128",
   "metadata": {},
   "outputs": [
    {
     "name": "stdout",
     "output_type": "stream",
     "text": [
      "(696214, 2)\n",
      "+---------+---------+\n",
      "|person_id|      mrn|\n",
      "+---------+---------+\n",
      "|   484719|MR1511173|\n",
      "|   496009|MR4073058|\n",
      "|  1040349|MR1589839|\n",
      "|  3123054|MR3942177|\n",
      "|  3394543|MR3953845|\n",
      "|  3476720|MR4008318|\n",
      "|  3480401|MR4319480|\n",
      "|  3734435| MR908529|\n",
      "|  3945041| MR872122|\n",
      "|  4017563|MR5277328|\n",
      "|  4017563|MR1698168|\n",
      "|  4704414| MR711126|\n",
      "|  4751919|MR5085463|\n",
      "|  4751919|MR2262124|\n",
      "|  4871694|MR2861079|\n",
      "|  4938663|MR3941488|\n",
      "|  4965162|MR4320907|\n",
      "|  4965162|MR6907366|\n",
      "|  5001004|MR5566294|\n",
      "|  5001004|MR2851325|\n",
      "+---------+---------+\n",
      "only showing top 20 rows\n",
      "\n"
     ]
    }
   ],
   "source": [
    "mrn_map = merge_files(\"/home/jupyter/omop-ed-datapipeline/mrn_map\")"
   ]
  },
  {
   "cell_type": "code",
   "execution_count": 18,
   "id": "55f0fcda-a76b-43ab-9202-d96a4cbd1c15",
   "metadata": {},
   "outputs": [
    {
     "name": "stderr",
     "output_type": "stream",
     "text": [
      "                                                                                \r"
     ]
    },
    {
     "name": "stdout",
     "output_type": "stream",
     "text": [
      "(7801597, 16)\n"
     ]
    },
    {
     "name": "stderr",
     "output_type": "stream",
     "text": [
      "22/06/07 18:15:17 WARN DAGScheduler: Broadcasting large task binary with size 3.2 MiB\n",
      "22/06/07 18:15:17 WARN DAGScheduler: Broadcasting large task binary with size 3.2 MiB\n"
     ]
    },
    {
     "name": "stdout",
     "output_type": "stream",
     "text": [
      "+---------+----------+-------------+---------------------------+----------+-------------------+--------------------+---------------------+-------------------+--------------------+-------------------+-------------------+-----------+-------------------+---------------+-----------------+\n",
      "|person_id|   note_id|note_event_id|note_event_field_concept_id| note_date|      note_datetime|note_type_concept_id|note_class_concept_id|         note_title|           note_text|encoding_concept_id|language_concept_id|provider_id|visit_occurrence_id|visit_detail_id|note_source_value|\n",
      "+---------+----------+-------------+---------------------------+----------+-------------------+--------------------+---------------------+-------------------+--------------------+-------------------+-------------------+-----------+-------------------+---------------+-----------------+\n",
      "| 13479732|  32302211|         null|                       null|2013-02-03|2013-02-03 18:01:00|                null|                 null|  ED Provider Notes|¶Þ¶Þ¶ÞHistory¶ÞCh...|               null|               null|     462177|            6978031|           null|         Caboodle|\n",
      "| 13523414|1034174914|         null|                       null|2019-10-01|2019-10-01 19:00:00|                null|                 null|     Progress Notes|Office Visit\\r\\n\\...|               null|               null|     463542|          160316077|           null|         Caboodle|\n",
      "| 13541217| 384109190|         null|                       null|2015-03-16|2015-03-16 18:09:00|                null|                 null|Telephone Encounter|              lmom  |               null|               null|     408139|           32398776|           null|         Caboodle|\n",
      "| 13551004|1600802237|         null|                       null|2021-03-29|2021-03-30 07:59:00|                null|                 null|      Addendum Note|Encounter addende...|               null|               null|    1966050|          237050346|           null|         Caboodle|\n",
      "| 13551004| 787394141|         null|                       null|2017-11-30|2017-11-30 21:36:00|                null|                 null|           ED Notes|Provider at bedsi...|               null|               null|     433626|           87510949|           null|         Caboodle|\n",
      "| 13568435| 687804077|         null|                       null|2017-02-10|2017-02-11 00:07:00|                null|                 null|  ED Provider Notes|Triage History  C...|               null|               null|     489037|           65238739|           null|         Caboodle|\n",
      "| 13602222| 562241596|         null|                       null|2016-01-08|2016-01-08 21:20:00|                null|                 null|     Progress Notes|FACE TO FACE TIME...|               null|               null|     458598|           44024743|           null|         Caboodle|\n",
      "| 13670163|1187495155|         null|                       null|2020-02-27|2020-02-28 02:59:00|                null|                 null|Telephone Encounter|Saczynski, Daniel...|               null|               null|     402642|          188677688|           null|         Caboodle|\n",
      "| 13693559| 994641249|         null|                       null|2019-06-22|2019-06-22 19:13:00|                null|                 null|       Consult Note|Yale-New Haven Ho...|               null|               null|     975100|          152730367|           null|         Caboodle|\n",
      "| 13837294|1914459516|         null|                       null|2022-01-06|2022-01-06 22:07:00|                null|                 null|  ED Provider Notes|  History  Chief ...|               null|               null|    1555512|          272223213|           null|         Caboodle|\n",
      "| 13844018|2057982541|         null|                       null|2022-05-10|2022-05-10 21:00:00|                null|                 null|           ED Notes|1:00 PM  Report r...|               null|               null|     973811|          285864207|           null|         Caboodle|\n",
      "| 13845371|1908627138|         null|                       null|2022-01-03|2022-01-03 20:00:00|                null|                 null|Telephone Encounter|Confirmed my char...|               null|               null|         -1|          271749956|           null|         Caboodle|\n",
      "| 13860688| 811936498|         null|                       null|2018-02-08|2018-02-09 04:02:00|                null|                 null|           ED Notes|6:02 PM 71 yr old...|               null|               null|     455051|           92064754|           null|         Caboodle|\n",
      "| 13865635|1419269397|         null|                       null|2020-11-18|2020-11-19 05:58:00|                null|                 null|           ED Notes|7:58 PM Seen/exam...|               null|               null|     451963|          220549193|           null|         Caboodle|\n",
      "| 13865635| 544639780|         null|                       null|2015-12-05|2015-12-05 19:58:00|                null|                 null|           ED Notes|Initial contact w...|               null|               null|     444600|           43882938|           null|         Caboodle|\n",
      "| 13886112| 855046613|         null|                       null|2018-06-10|2018-06-10 09:24:00|                null|                 null|           ED Notes|1:24 AM Pt report...|               null|               null|     402834|          103230361|           null|         Caboodle|\n",
      "| 13895361|1402766186|         null|                       null|2020-11-03|2020-11-04 05:22:00|                null|                 null|           ED Notes|7:22 PM \\r\\n70 yo...|               null|               null|     417877|          218962382|           null|         Caboodle|\n",
      "| 13900696|1316808042|         null|                       null|2020-08-06|2020-08-06 14:14:00|                null|                 null|     Rapid Response|Called to RRT for...|               null|               null|     982870|          208503953|           null|         Caboodle|\n",
      "| 13907627| 550537317|         null|                       null|2015-12-15|2015-12-16 00:29:00|                null|                 null|  ED Provider Notes|History  Chief Co...|               null|               null|     465590|           44338051|           null|         Caboodle|\n",
      "| 13907627|2048381227|         null|                       null|2022-05-02|2022-05-02 21:40:00|                null|                 null|           ED Notes|1340: reporting p...|               null|               null|    1868368|          284907856|           null|         Caboodle|\n",
      "+---------+----------+-------------+---------------------------+----------+-------------------+--------------------+---------------------+-------------------+--------------------+-------------------+-------------------+-----------+-------------------+---------------+-----------------+\n",
      "only showing top 20 rows\n",
      "\n"
     ]
    }
   ],
   "source": [
    "note = merge_files(\"/home/jupyter/omop-ed-datapipeline/note\")"
   ]
  },
  {
   "cell_type": "code",
   "execution_count": 19,
   "id": "7818d9e1-3a4b-47fd-a19f-e12d700c6c4a",
   "metadata": {},
   "outputs": [
    {
     "name": "stderr",
     "output_type": "stream",
     "text": [
      "                                                                                \r"
     ]
    },
    {
     "name": "stdout",
     "output_type": "stream",
     "text": [
      "(216584154, 23)\n"
     ]
    },
    {
     "name": "stderr",
     "output_type": "stream",
     "text": [
      "22/06/07 18:16:03 WARN DAGScheduler: Broadcasting large task binary with size 4.2 MiB\n",
      "22/06/07 18:16:03 WARN DAGScheduler: Broadcasting large task binary with size 4.2 MiB\n"
     ]
    },
    {
     "name": "stdout",
     "output_type": "stream",
     "text": [
      "+---------+--------------+-----------+----------------------+----------------+--------------------+---------------------------+---------------+---------------+-------------------+--------------------+---------------+-----------+-------------------+---------------+------------------------+-----------------------------+-----------------+----------------------+--------------------+--------------------------+-----------------+--------------------+\n",
      "|person_id|observation_id|specimen_id|observation_concept_id|observation_date|observation_datetime|observation_type_concept_id|value_as_number|value_as_string|value_as_concept_id|qualifier_concept_id|unit_concept_id|provider_id|visit_occurrence_id|visit_detail_id|observation_source_value|observation_source_concept_id|unit_source_value|qualifier_source_value|observation_event_id|obs_event_field_concept_id|value_as_datetime|  value_source_value|\n",
      "+---------+--------------+-----------+----------------------+----------------+--------------------+---------------------------+---------------+---------------+-------------------+--------------------+---------------+-----------+-------------------+---------------+------------------------+-----------------------------+-----------------+----------------------+--------------------+--------------------------+-----------------+--------------------+\n",
      "| 38537771|    3678555543|       null|                     0|            null| 2018-09-09 20:30:00|                       null|            1.0|           null|               null|                null|           null|       5648|          110732793|           null|                  Sepsis|                     16034500|                 |                  null|                null|                      null|             null|                   1|\n",
      "| 38537771|    3671100996|       null|                     0|            null| 2018-09-06 11:15:00|                       null|            0.0|           null|               null|                null|           null|       5648|          110732793|           null|                  Sepsis|                     16034500|                 |                  null|                null|                      null|             null|                   0|\n",
      "| 38576322|    1597897098|       null|                     0|            null| 2015-12-23 06:18:00|                       null|           null|           null|               null|                null|           null|      54125|           44648778|           null|    [Retired] Are You...|                         4582|                 |                  null|                null|                      null|             null|                  no|\n",
      "| 38582711|    5307875135|       null|                     0|            null| 2019-11-07 19:41:00|                       null|           null|           null|               null|                null|           null|      36019|          175931994|           null|    Do you need physi...|                       115265|                 |                  null|                null|                      null|             null|                  no|\n",
      "| 38582711|    5297496528|       null|                     0|            null| 2019-11-05 00:13:00|                       null|        2824.94|           null|               null|                null|           null|      75171|          178185445|           null|    WHO Equation Fema...|                       701370|                 |                  null|                null|                      null|             null|             2824.94|\n",
      "| 38686741|     742114310|       null|                     0|            null| 2014-07-19 19:44:00|                       null|           null|           null|               null|                null|           null|      20721|           22921996|           null|           IV Device WDL|                       662076|                 |                  null|                null|                      null|             null|                 WDL|\n",
      "| 38706951|    5143767932|       null|                     0|            null| 2019-12-08 09:02:00|                       null|           null|           null|               null|                null|           null|      78615|          180699249|           null|       Genitourinary WDL|                       702506|                 |                  null|                null|                      null|             null|                 WDL|\n",
      "| 38706951|    3147876014|       null|                    -1|            null| 2018-02-15 12:10:00|                       null|           null|           null|               null|                null|           null|      55589|           92410389|           null|               Location |                       664150|                 |                  null|                null|                      null|             null|metacarpal vein (...|\n",
      "| 38706951|    1428019562|       null|                     0|            null| 2015-09-12 22:24:00|                       null|           null|           null|               null|                null|           null|      36567|           40146556|           null|    Polypharmacy - RE...|                         4330|                 |                  null|                null|                      null|             null|              0-->No|\n",
      "| 38706951|    5143767950|       null|                     0|            null| 2019-12-08 07:54:00|                       null|           null|           null|               null|                null|           null|      64811|          180699249|           null|              Airway WDL|                       702333|                 |                  null|                null|                      null|             null|                 WDL|\n",
      "| 38718100|    5978750727|       null|                     0|            null| 2020-11-05 02:15:00|                       null|            0.4|           null|               null|                null|           null|       5648|          219085809|           null|                  Sepsis|                     16034500|                 |                  null|                null|                      null|             null|                  .4|\n",
      "| 38718100|    5976103181|       null|                     0|            null| 2020-11-04 01:00:00|                       null|           null|           null|               null|                null|           null|      11737|          218827665|           null|    Neurological/Cogn...|                    115144208|                 |                  null|                null|                      null|             null|                 WDL|\n",
      "| 38737352|    7571031029|       null|                     0|            null| 2022-02-22 22:30:00|                       null|            0.4|           null|               null|                null|           null|       5648|          277170382|           null|                  Sepsis|                     16034500|                 |                  null|                null|                      null|             null|                  .4|\n",
      "| 38737352|    7571681421|       null|                     0|            null| 2022-02-22 19:30:00|                       null|            0.4|           null|               null|                null|           null|       5648|          277170382|           null|                  Sepsis|                     16034500|                 |                  null|                null|                      null|             null|                  .4|\n",
      "| 38737352|    4851130074|       null|                     0|            null| 2019-10-12 01:59:00|                       null|         1414.0|           null|               null|                null|           null|      26995|          176248752|           null|    [Retired] 20 Kcal...|                       681754|                 |                  null|                null|                      null|             null|                1414|\n",
      "| 38737352|    7686277717|       null|                  null|            null| 2022-03-29 00:05:00|                       null|           null|           null|               null|                null|           null|      87195|          281214463|           null|    Telemedicine Util...|                      1604569|                 |                  null|                null|                      null|             null|                 Yes|\n",
      "| 38821658|    4726928566|       null|                     0|            null| 2019-09-02 21:58:00|                       null|           null|           null|               null|                null|           null|      37569|          161233400|           null|    Peripheral Neurov...|                       700705|                 |                  null|                null|                      null|             null|                 WDL|\n",
      "| 38821658|    4732523316|       null|                     0|            null| 2019-09-04 16:04:00|                       null|           null|           null|               null|                null|           null|      71727|          160723810|           null|               Device ID|                   1120100051|                 |                  null|                null|                      null|             null|        0009FB9B57B4|\n",
      "| 38821658|    4726817579|       null|                     0|            null| 2019-09-03 02:17:00|                       null|           null|           null|               null|                null|           null|      37569|          161233400|           null|    Restart Vitals Timer|                   5200000001|                 |                  null|                null|                      null|             null|                 Yes|\n",
      "| 38876262|    7274597508|       null|                     0|            null| 2021-11-25 04:01:00|                       null|            0.8|           null|               null|                null|           null|       5648|          267585980|           null|                  Sepsis|                     16034500|                 |                  null|                null|                      null|             null|                  .8|\n",
      "+---------+--------------+-----------+----------------------+----------------+--------------------+---------------------------+---------------+---------------+-------------------+--------------------+---------------+-----------+-------------------+---------------+------------------------+-----------------------------+-----------------+----------------------+--------------------+--------------------------+-----------------+--------------------+\n",
      "only showing top 20 rows\n",
      "\n"
     ]
    }
   ],
   "source": [
    "observation = merge_files(\"/home/jupyter/omop-ed-datapipeline/observation\")"
   ]
  },
  {
   "cell_type": "code",
   "execution_count": 20,
   "id": "503a4599-4a22-48d2-8bcc-9825ec508f9e",
   "metadata": {},
   "outputs": [
    {
     "name": "stdout",
     "output_type": "stream",
     "text": [
      "(5733534, 23)\n",
      "+---------+--------------------+------------------+----------------------------+--------------------------+----------------+---------------+-------------------+------------------+----------------------+--------------------+-----------------------+------------------+----------------------+---------------------+--------------------------+--------------------+-------------------------+-------------------+------------------------+-----------------------------+--------------------+------------------+\n",
      "|person_id|payer_plan_period_id|contract_person_id|payer_plan_period_start_date|payer_plan_period_end_date|payer_concept_id|plan_concept_id|contract_concept_id|sponsor_concept_id|stop_reason_concept_id|  payer_source_value|payer_source_concept_id| plan_source_value|plan_source_concept_id|contract_source_value|contract_source_concept_id|sponsor_source_value|sponsor_source_concept_id|family_source_value|stop_reason_source_value|stop_reason_source_concept_id|phenotype_start_date|phenotype_end_date|\n",
      "+---------+--------------------+------------------+----------------------------+--------------------------+----------------+---------------+-------------------+------------------+----------------------+--------------------+-----------------------+------------------+----------------------+---------------------+--------------------------+--------------------+-------------------------+-------------------+------------------------+-----------------------------+--------------------+------------------+\n",
      "|   691881|              885347|              null|                  2014-01-05|                      null|             332|           null|               null|              null|                  null|                BCBS|                   null| CENTURY PREFERRED|                  null|                 null|                      null|                null|                     null|               null|                    null|                         null|          2014-01-05|        2014-01-05|\n",
      "|  1582798|              860533|              null|                  2013-07-27|                      null|             332|           null|               null|              null|                  null|                BCBS|                   null| CENTURY PREFERRED|                  null|                 null|                      null|                null|                     null|               null|                    null|                         null|          2013-07-27|        2013-07-28|\n",
      "|  1582798|              860533|              null|                  2013-07-27|                      null|             332|           null|               null|              null|                  null|                BCBS|                   null| CENTURY PREFERRED|                  null|                 null|                      null|                null|                     null|               null|                    null|                         null|          2017-06-05|        2017-06-06|\n",
      "|  1582798|             5232147|              null|                  2020-05-06|                      null|             332|           null|               null|              null|                  null|                BCBS|                   null| CENTURY PREFERRED|                  null|                 null|                      null|                null|                     null|               null|                    null|                         null|          2013-07-27|        2013-07-28|\n",
      "|  1582798|             5232147|              null|                  2020-05-06|                      null|             332|           null|               null|              null|                  null|                BCBS|                   null| CENTURY PREFERRED|                  null|                 null|                      null|                null|                     null|               null|                    null|                         null|          2017-06-05|        2017-06-06|\n",
      "|  1582798|             3320913|              null|                  2017-06-05|                      null|             447|           null|               null|              null|                  null|WORKERS COMP GENERIC|                   null|     YNHH EMPLOYEE|                  null|                 null|                      null|                null|                     null|               null|                    null|                         null|          2013-07-27|        2013-07-28|\n",
      "|  1582798|             3320913|              null|                  2017-06-05|                      null|             447|           null|               null|              null|                  null|WORKERS COMP GENERIC|                   null|     YNHH EMPLOYEE|                  null|                 null|                      null|                null|                     null|               null|                    null|                         null|          2017-06-05|        2017-06-06|\n",
      "|  1582798|             3345449|              null|                  2017-06-05|                      null|             447|           null|               null|              null|                  null|WORKERS COMP GENERIC|                   null|     YNHH EMPLOYEE|                  null|                 null|                      null|                null|                     null|               null|                    null|                         null|          2013-07-27|        2013-07-28|\n",
      "|  1582798|             3345449|              null|                  2017-06-05|                      null|             447|           null|               null|              null|                  null|WORKERS COMP GENERIC|                   null|     YNHH EMPLOYEE|                  null|                 null|                      null|                null|                     null|               null|                    null|                         null|          2017-06-05|        2017-06-06|\n",
      "|  2414804|             6068670|              null|                  2021-03-10|                      null|             289|           null|               null|              null|                  null|MEDICAID CONNECTICUT|                   null|           HUSKY A|                  null|                 null|                      null|                null|                     null|               null|                    null|                         null|          2022-03-10|        2022-03-10|\n",
      "|  2414804|             4537064|              null|                  2019-04-09|                      null|             289|           null|               null|              null|                  null|MEDICAID CONNECTICUT|                   null|           HUSKY A|                  null|                 null|                      null|                null|                     null|               null|                    null|                         null|          2022-03-10|        2022-03-10|\n",
      "|  2414804|              502219|              null|                  2012-06-13|                      null|             340|           null|               null|              null|                  null|               CIGNA|                   null|             CIGNA|                  null|                 null|                      null|                null|                     null|               null|                    null|                         null|          2022-03-10|        2022-03-10|\n",
      "|  2491662|             1113992|              null|                  2013-05-02|                      null|             327|           null|               null|              null|                  null|           MAGNACARE|                   null|         MULTIPLAN|                  null|                 null|                      null|                null|                     null|               null|                    null|                         null|          2017-09-19|        2017-09-20|\n",
      "|  2491662|             3183422|              null|                  2017-01-06|                      null|             327|           null|               null|              null|                  null|           MAGNACARE|                   null|         MAGNACARE|                  null|                 null|                      null|                null|                     null|               null|                    null|                         null|          2017-09-19|        2017-09-20|\n",
      "|  2666658|             6431051|              null|                  2021-07-31|                      null|             340|           null|               null|              null|                  null|              OXFORD|                   null|            OXFORD|                  null|                 null|                      null|                null|                     null|               null|                    null|                         null|          2021-08-06|        2021-08-07|\n",
      "|  2666658|              217251|              null|                  2013-01-11|                      null|             340|           null|               null|              null|                  null|               CIGNA|                   null|             CIGNA|                  null|                 null|                      null|                null|                     null|               null|                    null|                         null|          2021-08-06|        2021-08-07|\n",
      "|  2666658|             6404404|              null|                  2021-08-02|                      null|             340|           null|               null|              null|                  null|         YALE HEALTH|                   null|MANAGEMENT/FACULTY|                  null|                 null|                      null|                null|                     null|               null|                    null|                         null|          2021-08-06|        2021-08-07|\n",
      "|  2666658|             6368909|              null|                  2021-07-31|                      null|             340|           null|               null|              null|                  null|   UNITED HEALTHCARE|                   null| UNITED HEALTHCARE|                  null|                 null|                      null|                null|                     null|               null|                    null|                         null|          2021-08-06|        2021-08-07|\n",
      "|  2930885|             1006849|              null|                  2013-08-28|                      null|             327|           null|               null|              null|                  null|   TUFTS HEALTH PLAN|                   null| TUFTS HEALTH PLAN|                  null|                 null|                      null|                null|                     null|               null|                    null|                         null|          2013-08-28|        2013-08-28|\n",
      "|  2984686|              241156|              null|                  2013-02-01|                      null|             332|           null|               null|              null|                  null|                BCBS|                   null| CENTURY PREFERRED|                  null|                 null|                      null|                null|                     null|               null|                    null|                         null|          2013-02-01|        2013-02-01|\n",
      "+---------+--------------------+------------------+----------------------------+--------------------------+----------------+---------------+-------------------+------------------+----------------------+--------------------+-----------------------+------------------+----------------------+---------------------+--------------------------+--------------------+-------------------------+-------------------+------------------------+-----------------------------+--------------------+------------------+\n",
      "only showing top 20 rows\n",
      "\n"
     ]
    },
    {
     "name": "stderr",
     "output_type": "stream",
     "text": [
      "22/06/07 18:16:11 WARN DAGScheduler: Broadcasting large task binary with size 1081.9 KiB\n"
     ]
    }
   ],
   "source": [
    "payer_plan_period = merge_files(\"/home/jupyter/omop-ed-datapipeline/payer_plan_period\")"
   ]
  },
  {
   "cell_type": "code",
   "execution_count": 21,
   "id": "3e11b20c-09a1-4d15-ad95-98ed7011f184",
   "metadata": {},
   "outputs": [
    {
     "name": "stdout",
     "output_type": "stream",
     "text": [
      "(456302, 20)\n",
      "+---------+-----------------+-------------+--------------+------------+-------------+-------------------+--------------+---------------+--------------------+--------------------+-----------+------------+-------------------+-------------------+------------------------+--------------------+----------------------+----------------------+---------------------------+\n",
      "|person_id|gender_concept_id|year_of_birth|month_of_birth|day_of_birth|date_of_birth|     birth_datetime|death_datetime|race_concept_id|ethnicity_concept_id|         location_id|provider_id|care_site_id|person_source_value|gender_source_value|gender_source_concept_id|   race_source_value|race_source_concept_id|ethnicity_source_value|ethnicity_source_concept_id|\n",
      "+---------+-----------------+-------------+--------------+------------+-------------+-------------------+--------------+---------------+--------------------+--------------------+-----------+------------+-------------------+-------------------+------------------------+--------------------+----------------------+----------------------+---------------------------+\n",
      "|  2100450|             8532|         null|          null|        null|   2000-07-23|2000-07-23 08:00:00|          null|           8522|            38003563|e347315d786a1ef1b...|       null|        null|               null|             Female|                    null|    Other/Not Listed|                  null|    Hispanic or Latino|                       null|\n",
      "|  2734786|             8532|         null|          null|        null|   2006-09-25|2006-09-25 08:00:00|          null|           8527|            38003564|728c19c7db6a328cf...|       null|        null|               null|             Female|                    null|  White or Caucasian|                  null|          Non-Hispanic|                       null|\n",
      "|  2981613|             8532|         null|          null|        null|   1987-02-06|1987-02-06 10:00:00|          null|           8515|            38003564|c90c43734b621253a...|       null|        null|               null|             Female|                    null|               Asian|                  null|          Non-Hispanic|                       null|\n",
      "|  2996934|             8507|         null|          null|        null|   1998-07-27|1998-07-27 08:00:00|          null|           8527|            38003564|b59dd1c18a73f1454...|       null|        null|               null|               Male|                    null|  White or Caucasian|                  null|          Non-Hispanic|                       null|\n",
      "|  2997043|             8507|         null|          null|        null|   2013-10-09|2013-10-09 08:00:00|          null|           8527|            38003564|e4ea84f19f02cff28...|       null|        null|               null|               Male|                    null|  White or Caucasian|                  null|          Non-Hispanic|                       null|\n",
      "|  3333446|             8532|         null|          null|        null|   1994-03-17|1994-03-17 10:00:00|          null|           8515|            38003564|b1e70692e6f67149f...|       null|        null|               null|             Female|                    null|               Asian|                  null|          Non-Hispanic|                       null|\n",
      "|  3473202|             8532|         null|          null|        null|   1995-10-28|1995-10-28 08:00:00|          null|           8527|            38003564|9386f559ea1402f9d...|       null|        null|               null|             Female|                    null|  White or Caucasian|                  null|          Non-Hispanic|                       null|\n",
      "|  3766174|             8507|         null|          null|        null|   2001-04-17|2001-04-17 08:00:00|          null|           8527|            38003564|4df1c4f5e74138938...|       null|        null|               null|               Male|                    null|  White or Caucasian|                  null|          Non-Hispanic|                       null|\n",
      "|  4712980|             8532|         null|          null|        null|   2009-10-19|2009-10-19 08:00:00|          null|           8522|            38003563|99246f68f5e135218...|       null|        null|               null|             Female|                    null|    Other/Not Listed|                  null|    Hispanic or Latino|                       null|\n",
      "|  4726981|             8532|         null|          null|        null|   2007-05-23|2007-05-23 08:00:00|          null|           8527|            38003563|3a26b6fd7859d1405...|       null|        null|               null|             Female|                    null|  White or Caucasian|                  null|    Hispanic or Latino|                       null|\n",
      "|  4880202|             8507|         null|          null|        null|   1958-04-01|1958-04-01 10:00:00|          null|           8516|            38003564|9696ba2430ab1c813...|       null|        null|               null|               Male|                    null|Black or African ...|                  null|          Non-Hispanic|                       null|\n",
      "|  4938150|             8532|         null|          null|        null|   2013-02-19|2013-02-19 10:00:00|          null|           8527|            38003564|36b5b85fd7997ac64...|       null|        null|               null|             Female|                    null|  White or Caucasian|                  null|          Non-Hispanic|                       null|\n",
      "|  4956371|             8507|         null|          null|        null|   1991-12-29|1991-12-29 10:00:00|          null|           8527|            38003563|a2e2b1e7ab9d4faf9...|       null|        null|               null|               Male|                    null|  White or Caucasian|                  null|    Hispanic or Latino|                       null|\n",
      "|  4968606|             8532|         null|          null|        null|   2013-08-02|2013-08-02 08:00:00|          null|           8527|            38003564|cbc14c0046e5ddb5b...|       null|        null|               null|             Female|                    null|  White or Caucasian|                  null|          Non-Hispanic|                       null|\n",
      "|  5144804|             8532|         null|          null|        null|   1962-02-27|1962-02-27 10:00:00|          null|           8516|            38003564|118c36c513766139a...|       null|        null|               null|             Female|                    null|Black or African ...|                  null|          Non-Hispanic|                       null|\n",
      "|  5235613|             8507|         null|          null|        null|   1968-06-27|1968-06-27 08:00:00|          null|           8527|                   0|fb1daf98112643b9c...|       null|        null|               null|               Male|                    null|  White or Caucasian|                  null|               Unknown|                       null|\n",
      "|  5474964|             8507|         null|          null|        null|   1976-11-29|1976-11-29 10:00:00|          null|           8527|            38003564|aa90e89323ae0d70c...|       null|        null|               null|               Male|                    null|  White or Caucasian|                  null|          Non-Hispanic|                       null|\n",
      "|  5475830|             8532|         null|          null|        null|   2008-09-26|2008-09-26 08:00:00|          null|           8522|            38003564|b52844e5e27294e56...|       null|        null|               null|             Female|                    null|               Other|                  null|          Non-Hispanic|                       null|\n",
      "|  5490640|             8532|         null|          null|        null|   1957-09-04|1957-09-04 08:00:00|          null|           8527|            38003564|1354dc32a457c4aa8...|       null|        null|               null|             Female|                    null|  White or Caucasian|                  null|          Non-Hispanic|                       null|\n",
      "|  5492771|             8507|         null|          null|        null|   1948-07-11|1948-07-11 08:00:00|          null|           8527|            38003564|e3b570594898d30c7...|       null|        null|               null|               Male|                    null|  White or Caucasian|                  null|          Non-Hispanic|                       null|\n",
      "+---------+-----------------+-------------+--------------+------------+-------------+-------------------+--------------+---------------+--------------------+--------------------+-----------+------------+-------------------+-------------------+------------------------+--------------------+----------------------+----------------------+---------------------------+\n",
      "only showing top 20 rows\n",
      "\n"
     ]
    }
   ],
   "source": [
    "person = merge_files(\"/home/jupyter/omop-ed-datapipeline/person\")"
   ]
  },
  {
   "cell_type": "code",
   "execution_count": 22,
   "id": "8c56d1d1-b10a-41dc-973d-7dd7392aa18e",
   "metadata": {},
   "outputs": [
    {
     "name": "stdout",
     "output_type": "stream",
     "text": [
      "(1471121, 10)\n",
      "+-------------+---------+----+-------------------+---------+--------+-----------+-------------------+--------------------+------------------+\n",
      "|phenotype_uri|person_id| mrn|visit_occurrence_id|      csn|order_id|specimen_id|     birth_datetime|phenotype_start_date|phenotype_end_date|\n",
      "+-------------+---------+----+-------------------+---------+--------+-----------+-------------------+--------------------+------------------+\n",
      "|YNHH ED Visit|   145190|null|           67523094|148142170|    null|       null|1957-04-20 05:00:00|          2017-03-24|        2017-03-24|\n",
      "|YNHH ED Visit|   205775|null|           71086526|151722211|    null|       null|1956-12-26 05:00:00|          2017-05-29|        2017-05-29|\n",
      "|YNHH ED Visit|   776885|null|           73009461|153671482|    null|       null|1967-05-12 04:00:00|          2017-07-04|        2017-07-04|\n",
      "|YNHH ED Visit|  2814640|null|           16421582| 95326372|    null|       null|2013-10-26 04:00:00|          2014-01-10|        2014-01-11|\n",
      "|YNHH ED Visit|  2990176|null|           78606123|155434788|    null|       null|2008-03-21 04:00:00|          2017-08-04|        2017-08-04|\n",
      "|YNHH ED Visit|  3104547|null|            7278200| 85092999|    null|       null|1990-01-29 05:00:00|          2013-02-12|        2013-02-12|\n",
      "|YNHH ED Visit|  3216788|null|           13254470| 92477233|    null|       null|1985-05-05 04:00:00|          2013-10-14|        2013-10-15|\n",
      "|YNHH ED Visit|  3988817|null|           16013273| 94038962|    null|       null|1958-02-26 05:00:00|          2013-11-30|        2013-11-30|\n",
      "|YNHH ED Visit|  3988817|null|          222308573|235528619|    null|       null|1958-02-26 05:00:00|          2020-12-05|        2020-12-05|\n",
      "|YNHH ED Visit|  4727383|null|          216794385|230724878|    null|       null|1993-01-23 05:00:00|          2020-10-15|        2020-10-15|\n",
      "|YNHH ED Visit|  4783122|null|          121788870|186093736|    null|       null|1984-03-03 05:00:00|          2019-01-20|        2019-01-20|\n",
      "|YNHH ED Visit|  4799184|null|           69202101|149832214|    null|       null|1992-08-05 04:00:00|          2017-04-25|        2017-04-25|\n",
      "|YNHH ED Visit|  4799184|null|          227609653|240261128|    null|       null|1992-08-05 04:00:00|          2021-01-20|        2021-01-20|\n",
      "|YNHH ED Visit|  4799184|null|           88053331|162484647|    null|       null|1992-08-05 04:00:00|          2017-12-09|        2017-12-09|\n",
      "|YNHH ED Visit|  4799184|null|          222188298|235411893|    null|       null|1992-08-05 04:00:00|          2020-12-04|        2020-12-04|\n",
      "|YNHH ED Visit|  4799184|null|          239392917|249343941|    null|       null|1992-08-05 04:00:00|          2021-04-15|        2021-04-15|\n",
      "|YNHH ED Visit|  4799184|null|          267801503|271016076|    null|       null|1992-08-05 04:00:00|          2021-11-28|        2021-11-28|\n",
      "|YNHH ED Visit|  4799184|null|          205767080|221112209|    null|       null|1992-08-05 04:00:00|          2020-06-22|        2020-06-22|\n",
      "|YNHH ED Visit|  4799184|null|           73407171|154073845|    null|       null|1992-08-05 04:00:00|          2017-07-12|        2017-07-12|\n",
      "|YNHH ED Visit|  4799184|null|          245167351|253542849|    null|       null|1992-08-05 04:00:00|          2021-05-28|        2021-05-28|\n",
      "+-------------+---------+----+-------------------+---------+--------+-----------+-------------------+--------------------+------------------+\n",
      "only showing top 20 rows\n",
      "\n"
     ]
    }
   ],
   "source": [
    "phenotype = merge_files(\"/home/jupyter/omop-ed-datapipeline/phenotype\")"
   ]
  },
  {
   "cell_type": "code",
   "execution_count": 23,
   "id": "985c0672-2476-40f3-9ac0-93e0b15dc951",
   "metadata": {},
   "outputs": [
    {
     "name": "stderr",
     "output_type": "stream",
     "text": [
      "                                                                                \r"
     ]
    },
    {
     "name": "stdout",
     "output_type": "stream",
     "text": [
      "(20060410, 16)\n",
      "+---------+-----------------------+--------------------+-------------------+--------------+-------------------+-------------------------+-------------------+--------+-----------+-------------------+---------------+----------------------+---------------------------+---------------------+-------------------+\n",
      "|person_id|procedure_occurrence_id|procedure_concept_id|procedure_source_id|procedure_date| procedure_datetime|procedure_type_concept_id|modifier_concept_id|quantity|provider_id|visit_occurrence_id|visit_detail_id|procedure_source_value|procedure_source_concept_id|modifier_source_value|status_source_value|\n",
      "+---------+-----------------------+--------------------+-------------------+--------------+-------------------+-------------------------+-------------------+--------+-----------+-------------------+---------------+----------------------+---------------------------+---------------------+-------------------+\n",
      "|  5504958|             e524388602|             2514436|             270501|          null|2017-07-23 08:00:00|                    32827|               null|    null|    1810560|                 -2|           null|  CPT4: 99284  PR E...|                    2514436|                 null|               null|\n",
      "|  5912579|             o205810358|                   0|             289161|          null|2021-09-08 20:08:00|                    32833|               null|    null|         -1|          233358713|           null|  ADA: D1120  PR  P...|                          0|                 null|          Completed|\n",
      "|  6777747|             e554198980|             4296798|              19513|          null|2020-10-13 08:10:00|                    32827|               null|    null|         -1|          216528259|           null|  Custom: NUR467  I...|                    4296798|                 null|               null|\n",
      "|  6830771|             e123464986|                   0|               3285|          null|2017-03-14 01:20:00|                    32827|               null|    null|         -1|           66905162|           null|  Custom: LAB260  C...|                          0|                 null|               null|\n",
      "|  6830771|              o78197431|             2313814|              14403|          null|2017-04-17 08:35:00|                    32833|               null|    null|     455673|           68718125|           null|     Custom: EKG1  EKG|                    3013512|                 null|          Completed|\n",
      "|  7016262|             e107672051|            45765481|              15627|          null|2018-01-21 14:20:00|                    32827|               null|    null|         -1|           90913741|           null|  Custom: IMG787  C...|                   45765481|                 null|               null|\n",
      "|  7081551|             e220673764|              725069|               8450|          null|2018-10-05 02:45:00|                    32827|               null|    null|         -1|          112971871|           null|  Custom: IMG36  XR...|                    3031526|                 null|               null|\n",
      "|  7095090|             e234790978|             2211401|             274012|          null|2018-10-26 08:00:00|                    32827|               null|    null|         -1|                 -2|           null|  CPT4: 72125  PR C...|                    2211401|                 null|               null|\n",
      "|  7800558|             e770424559|             2313815|             278246|          null|2022-05-18 08:00:00|                    32827|               null|    null|         -1|          287106215|           null|  CPT4: 93005  PR E...|                    2313815|                 null|               null|\n",
      "|  7972269|             e353581086|            40756910|             274316|          null|2019-07-30 08:00:00|                    32827|               null|    null|         -1|          157942325|           null|  CPT4: 74177  CHG ...|                   40756910|                 null|               null|\n",
      "|  8210144|             e504541116|             2314215|             275824|          null|2020-07-24 08:00:00|                    32827|               null|    null|         -1|                 -2|           null|  CPT4: 96374  HC I...|                    2314215|                 null|               null|\n",
      "|  8501921|              e60334186|             2211506|             272112|          null|2017-01-03 10:00:00|                    32827|               null|    null|    1326036|                 -2|           null|  CPT4: 74000  PR X...|                    2211506|                 null|               null|\n",
      "|  8657942|             e752594670|              725005|             296954|          null|2022-03-21 08:00:00|                    32827|               null|    null|     454177|                 -2|           null|  CPT4: 00811  HC A...|                     725005|                 null|               null|\n",
      "|  8825256|             e707877260|             2514436|             270501|          null|2021-10-25 08:00:00|                    32827|               null|    null|    2388910|                 -2|           null|  CPT4: 99284  PR E...|                    2514436|                 null|               null|\n",
      "|  8920943|             e710177635|             2313814|              14403|          null|2021-11-30 07:57:00|                    32827|               null|    null|         -1|          267822463|           null|     Custom: EKG1  EKG|                    3013512|                 null|               null|\n",
      "|  9034315|             e755179472|             2514416|             276262|          null|2022-04-25 08:00:00|                    32827|               null|    null|         -1|          283568511|           null|  CPT4: 99242  PR O...|                    2514416|                 null|               null|\n",
      "|  9444331|             o208413366|                   0|              30303|          null|2021-10-05 00:03:00|                    32833|               null|    null|    1381397|          261283919|           null|  Custom: NUR447  C...|                    4160022|                 null|           Canceled|\n",
      "| 10600688|             e449427555|              725068|             296978|          null|2020-03-24 08:00:00|                    32827|               null|    null|         -1|          191915952|           null|  CPT4: 71045  HC X...|                     725068|                 null|               null|\n",
      "| 10626959|             e678813511|                   0|              60042|          null|2013-03-30 02:26:00|                    32827|               null|    null|         -1|            8842724|           null|    CPT4: EDLOS  EDLOS|                          0|                 null|               null|\n",
      "| 10642879|             e104596158|                null|             272885|          null|2016-11-07 10:00:00|                    32827|               null|    null|         -1|           60294527|           null|  HCPCS: A9555  PR ...|                    2615376|                 null|               null|\n",
      "+---------+-----------------------+--------------------+-------------------+--------------+-------------------+-------------------------+-------------------+--------+-----------+-------------------+---------------+----------------------+---------------------------+---------------------+-------------------+\n",
      "only showing top 20 rows\n",
      "\n"
     ]
    }
   ],
   "source": [
    "procedure_occurrence = merge_files(\"/home/jupyter/omop-ed-datapipeline/procedure_occurrence\")"
   ]
  },
  {
   "cell_type": "code",
   "execution_count": 24,
   "id": "3084fbad-6881-45f7-83db-262ac638a372",
   "metadata": {},
   "outputs": [
    {
     "name": "stdout",
     "output_type": "stream",
     "text": [
      "(656, 6)\n",
      "+--------------------+--------------------+---------------+----------------+-----------------------+-----------------------+\n",
      "|     relationship_id|   relationship_name|is_hierarchical|defines_ancestry|reverse_relationship_id|relationship_concept_id|\n",
      "+--------------------+--------------------+---------------+----------------+-----------------------+-----------------------+\n",
      "|   Has specimen proc|Has specimen proc...|              0|               0|       Specimen proc of|               44818775|\n",
      "| Has specimen source|Has specimen sour...|              0|               0|   Specimen identity of|               44818776|\n",
      "|  Has specimen morph|Has specimen sour...|              0|               0|      Specimen morph of|               44818777|\n",
      "|   Has specimen topo|Has specimen sour...|              0|               0|       Specimen topo of|               44818778|\n",
      "|  Has specimen subst|Has specimen subs...|              0|               0|      Specimen subst of|               44818779|\n",
      "|          Has due to| Has due to (SNOMED)|              0|               0|              Due to of|               44818780|\n",
      "|   Has relat context|Has subject relat...|              0|               0|       Relat context of|               44818781|\n",
      "|       Has dose form|Has dose form (SN...|              0|               0|           Dose form of|               44818782|\n",
      "|        Occurs after|Occurs after (SNO...|              0|               0|          Occurs before|               44818783|\n",
      "|       Has asso proc|Has associated pr...|              0|               0|           Asso proc of|               44818784|\n",
      "|   Has dir proc site|Has direct proced...|              0|               0|       Dir proc site of|               44818785|\n",
      "| Has indir proc site|Has indirect proc...|              0|               0|     Indir proc site of|               44818786|\n",
      "|     Has proc device|Has procedure dev...|              0|               0|         Proc device of|               44818787|\n",
      "|      Has proc morph|Has procedure mor...|              0|               0|          Proc morph of|               44818788|\n",
      "| Has finding context|Has finding conte...|              0|               0|     Finding context of|               44818789|\n",
      "|    Has proc context|Has procedure con...|              0|               0|        Proc context of|               44818790|\n",
      "|Has temporal context|Has temporal cont...|              0|               0|    Temporal context of|               44818791|\n",
      "|   Asso with finding|Associated with f...|              0|               0|      Finding asso with|               44818792|\n",
      "|   Has surgical appr|Has surgical appr...|              0|               0|       Surgical appr of|               44818793|\n",
      "|        Using device|Using device (SNO...|              0|               0|         Device used by|               44818794|\n",
      "+--------------------+--------------------+---------------+----------------+-----------------------+-----------------------+\n",
      "only showing top 20 rows\n",
      "\n"
     ]
    }
   ],
   "source": [
    "relationship = merge_files(\"/home/jupyter/omop-ed-datapipeline/relationship\")"
   ]
  },
  {
   "cell_type": "code",
   "execution_count": 25,
   "id": "634fc156-a8e6-46fc-b63d-8c5d6ea0ffd0",
   "metadata": {},
   "outputs": [
    {
     "name": "stderr",
     "output_type": "stream",
     "text": [
      "                                                                                \r"
     ]
    },
    {
     "name": "stdout",
     "output_type": "stream",
     "text": [
      "(3317779, 17)\n",
      "+---------+-----------+-------------------+------------------------+-------------+-------------------+--------+---------------+------------------------+-------------------------+-------------------------------+------------------+---------------------+-----------------+--------------------------+---------------------------+---------------------------------+\n",
      "|person_id|specimen_id|specimen_concept_id|specimen_type_concept_id|specimen_date|  specimen_datetime|quantity|unit_concept_id|anatomic_site_concept_id|disease_status_concept_id|collection_container_concept_id|specimen_source_id|specimen_source_value|unit_source_value|anatomic_site_source_value|disease_status_source_value|collection_container_source_value|\n",
      "+---------+-----------+-------------------+------------------------+-------------+-------------------+--------+---------------+------------------------+-------------------------+-------------------------------+------------------+---------------------+-----------------+--------------------------+---------------------------+---------------------------------+\n",
      "|  5707701|   98087018|            4299925|                    null|         null|2020-06-17 00:30:00|    null|           null|                    null|                     null|                           null|     20S-168UA0025|                Urine|             null|              *Unspecified|                       null|             Speckled Red/Yell...|\n",
      "|  6491692|  145251206|                  0|                    null|         null|2022-03-03 09:53:00|    null|           null|                    null|                     null|                           null|     22Y-061MI0744|              Culture|             null|      Urine (Dirty Catc...|                       null|                     Aptima Urine|\n",
      "|  6674739|  137142560|            4226865|                    null|         null|2021-11-10 05:59:00|    null|           null|                    null|                     null|                           null|     21S-313CH0134|                Blood|             null|              *Unspecified|                       null|               Lt Green Top LiHep|\n",
      "|  7012689|  126755791|            4226865|                    null|         null|2021-07-01 09:21:00|    null|           null|                    null|                     null|                           null|     21S-181CH0304|                Blood|             null|              *Unspecified|                       null|               Lt Green Top LiHep|\n",
      "|  7012689|   54292635|            4299925|                    null|         null|2017-03-30 00:25:00|    null|           null|                    null|                     null|                           null|     17S-088UA0018|                Urine|             null|              *Unspecified|                       null|             Speckled Red/Yell...|\n",
      "|  7089350|  119105032|            4226865|                    null|         null|2021-03-21 05:27:00|    null|           null|                    null|                     null|                           null|     21Y-079HE0897|                Blood|             null|              *Unspecified|                       null|                          Lav Top|\n",
      "|  7145930|  150509944|            4226865|                    null|         null|2022-05-17 00:10:00|    null|           null|                    null|                     null|                           null|     22S-136HE0079|                Blood|             null|              *Unspecified|                       null|                          Lav Top|\n",
      "|  7145930|  141635804|            4226865|                    null|         null|2022-01-12 13:01:00|    null|           null|                    null|                     null|                           null|     22Y-011PC2127|                Blood|             null|              *Unspecified|                       null|                  Misc. Container|\n",
      "|  7145930|  148487238|                  0|                    null|         null|2022-04-15 01:54:00|    null|           null|                    null|                     null|                           null|     22Y-104MI0404|              Culture|             null|                      Bone|                       null|                Sterile Container|\n",
      "|  7542233|   88064820|            4226865|                    null|         null|2020-02-05 12:33:00|    null|           null|                    null|                     null|                           null|     20Y-035CH2803|                Blood|             null|              *Unspecified|                       null|             Dk Green Top WHOL...|\n",
      "|  7542233|   88080467|            4226865|                    null|         null|2020-02-07 11:45:00|    null|           null|                    null|                     null|                           null|     20Y-037CH2621|                Blood|             null|              *Unspecified|                       null|               Lt Green Top LiHep|\n",
      "|  7542233|   76306832|            4226865|                    null|         null|2019-02-06 17:19:00|    null|           null|                    null|                     null|                           null|     19C-037CH0021|                Blood|             null|              *Unspecified|                       null|               Lt Green Top LiHep|\n",
      "|  7893957|   55609409|            4299925|                    null|         null|2017-05-11 17:52:00|    null|           null|                    null|                     null|                           null|     17Y-131MI0054|                Urine|             null|              *Unspecified|                       null|                   Gray Top Urine|\n",
      "|  8163250|  124407217|                  0|                    null|         null|2021-06-05 15:49:00|    null|           null|                    null|                     null|                           null|     21Y-156VI0043|                Viral|             null|                      Skin|                       null|                  Viral Transport|\n",
      "|  8232117|   70469816|            4226865|                    null|         null|2018-09-23 03:52:00|    null|           null|                    null|                     null|                           null|     18Y-265PC1088|                Blood|             null|              *Unspecified|                       null|                  Bld Gas Syringe|\n",
      "|  9432427|   67995013|            4226865|                    null|         null|2018-07-15 01:54:00|    null|           null|                    null|                     null|                           null|     18S-195CH0059|                Blood|             null|              *Unspecified|                       null|               Lt Green Top LiHep|\n",
      "| 10588823|   78589776|            4226865|                    null|         null|2019-04-01 10:04:00|    null|           null|                    null|                     null|                           null|     19Y-090CH1400|                Blood|             null|              *Unspecified|                       null|               Lt Green Top LiHep|\n",
      "| 10717741|  148027892|            4226865|                    null|         null|2022-04-10 12:54:00|    null|           null|                    null|                     null|                           null|     22Y-100CH0068|                Blood|             null|              *Unspecified|                       null|               Lt Green Top LiHep|\n",
      "| 10777208|   50908878|            4226865|                    null|         null|2016-12-01 21:51:00|    null|           null|                    null|                     null|                           null|     16S-336CH0004|                Blood|             null|              *Unspecified|                       null|               Lt Green Top LiHep|\n",
      "| 10802052|  140715270|            4226865|                    null|         null|2021-12-30 04:26:00|    null|           null|                    null|                     null|                           null|     21Y-363CH1834|                Blood|             null|              *Unspecified|                       null|               Lt Green Top LiHep|\n",
      "+---------+-----------+-------------------+------------------------+-------------+-------------------+--------+---------------+------------------------+-------------------------+-------------------------------+------------------+---------------------+-----------------+--------------------------+---------------------------+---------------------------------+\n",
      "only showing top 20 rows\n",
      "\n"
     ]
    }
   ],
   "source": [
    "specimen = merge_files(\"/home/jupyter/omop-ed-datapipeline/specimen\")"
   ]
  },
  {
   "cell_type": "code",
   "execution_count": 27,
   "id": "dc227b47-42be-4498-8c1d-2f68fe3ce2fe",
   "metadata": {},
   "outputs": [],
   "source": [
    "# Stage has no files\n",
    "# stage = merge_files(\"/home/jupyter/omop-ed-datapipeline/stage\")"
   ]
  },
  {
   "cell_type": "code",
   "execution_count": 28,
   "id": "a69517f6-ac32-4162-bc10-6de877f50a7b",
   "metadata": {},
   "outputs": [
    {
     "name": "stdout",
     "output_type": "stream",
     "text": [
      "(5161358, 17)\n",
      "+---------+-------------------+----------------+----------------+--------------------+--------------+-------------------+---------------------+-----------+------------+--------------------+-----------------------+------------------------+--------------------------+-------------------------+-----------------------+-----------------------------+\n",
      "|person_id|visit_occurrence_id|visit_concept_id|visit_start_date|visit_start_datetime|visit_end_date| visit_end_datetime|visit_type_concept_id|provider_id|care_site_id|  visit_source_value|visit_source_concept_id|admitted_from_concept_id|admitted_from_source_value|discharge_to_source_value|discharge_to_concept_id|preceding_visit_occurrence_id|\n",
      "+---------+-------------------+----------------+----------------+--------------------+--------------+-------------------+---------------------+-----------+------------+--------------------+-----------------------+------------------------+--------------------------+-------------------------+-----------------------+-----------------------------+\n",
      "|  5652221|          241108220|        44788403|            null| 2021-04-26 17:48:00|          null|2021-04-26 18:15:00|                 null|    1407339|        1072|Appointment: YHS ...|                   null|                    null|           *Not Applicable|          *Not Applicable|                      0|                         null|\n",
      "|  5914900|          118673929|        44818518|            null| 2018-12-06 10:00:00|          null|2018-12-06 10:00:00|                 null|         -1|          -1|Travel: *Unspecified|                   null|                    null|           *Not Applicable|          *Not Applicable|                      0|                         null|\n",
      "|  6013204|          213813437|            9203|            null| 2020-09-18 03:48:00|          null|2020-09-18 06:24:00|                 null|    1675365|        1149|Hospital Encounte...|                   null|                    null|      Non-Health Care F...|     Discharged to Hom...|                   8536|                         null|\n",
      "|  6107129|          257768912|            9203|            null| 2021-08-30 21:08:00|          null|2021-08-30 22:18:00|                 null|    2461977|         968|Hospital Encounte...|                   null|                    null|      Clinic or Physici...|     Discharged to Hom...|                   8536|                         null|\n",
      "|  6361825|           54267195|            5083|            null| 2016-07-12 08:00:00|          null|2016-07-12 08:00:00|                 null|     474030|        2266|Telephone: *Unspe...|                   null|                    null|           *Not Applicable|          *Not Applicable|                      0|                         null|\n",
      "|  7931170|           88029164|            5083|            null| 2017-12-08 10:00:00|          null|2017-12-08 10:00:00|                 null|     937254|        1289|Telephone: *Unspe...|                   null|                    null|           *Not Applicable|          *Not Applicable|                      0|                         null|\n",
      "|  7960660|          261292165|        36716104|            null| 2021-10-04 08:00:00|          null|2021-10-04 08:00:00|                 null|    2350260|        4275|Orders Only: *Uns...|                   null|                    null|           *Not Applicable|          *Not Applicable|                      0|                         null|\n",
      "|  9499499|          247773531|            9203|            null| 2021-06-24 04:24:00|          null|2021-06-24 08:47:00|                 null|    1674114|         968|Hospital Encounte...|                   null|                    null|      Non-Health Care F...|     Left Against Medi...|                      0|                         null|\n",
      "| 10643337|            8139756|         4212052|            null| 2013-02-27 10:00:00|          null|2013-02-27 10:00:00|                 null|      52463|        1047|Anesthesia Event:...|                   null|                    null|           *Not Applicable|          *Not Applicable|                      0|                         null|\n",
      "| 10654861|          278504563|            9203|            null| 2022-03-09 04:03:00|          null|2022-03-09 07:05:00|                 null|    1876585|        1149|Hospital Encounte...|                   null|                    null|      Non-Health Care F...|     Discharged to Hom...|                   8536|                         null|\n",
      "| 10657655|           10962028|            5083|            null| 2013-07-08 08:00:00|          null|2013-07-08 08:00:00|                 null|      24023|        2696|Telephone: *Unspe...|                   null|                    null|           *Not Applicable|          *Not Applicable|                      0|                         null|\n",
      "| 10746853|            9180524|            9203|            null| 2013-05-01 20:24:00|          null|2013-05-01 23:42:00|                 null|      49742|         968|Hospital Encounte...|                   null|                    null|      Non-Health Care F...|     Discharged to Hom...|                   8536|                         null|\n",
      "| 10872125|           21143383|            9203|            null| 2014-05-30 05:44:00|          null|2014-05-30 08:44:00|                 null|     114739|         956|Hospital Encounte...|                   null|                    null|      Non-Health Care F...|     Discharged to Hom...|                   8536|                         null|\n",
      "| 10879200|           14501128|            9202|            null| 2013-11-15 18:16:00|          null|2013-11-15 18:32:00|                 null|      37486|        1364|Hospital Encounte...|                   null|                    null|      Physician or Clin...|        Home or Self Care|                   8536|                         null|\n",
      "| 10929915|          208949216|           32021|            null| 2014-07-27 08:00:00|          null|2014-07-27 08:00:00|                 null|         -2|          -2|Hospital Encounte...|                   null|                    null|                      null|                     null|                   null|                         null|\n",
      "| 10942366|           52402449|            9203|            null| 2016-06-06 17:52:00|          null|2016-06-06 21:54:00|                 null|     480042|        1494|Hospital Encounte...|                   null|                    null|      Non-Health Care F...|     Discharged to Hom...|                   8536|                         null|\n",
      "| 11106408|          193030846|            9202|            null| 2020-04-01 21:30:00|          null|2020-04-02 07:59:00|                 null|    1744513|       30006|Hospital Encounte...|                   null|                    null|                      null|        Home or Self Care|                   8536|                         null|\n",
      "| 11117684|           91746149|            9203|            null| 2018-02-04 05:17:00|          null|2018-02-04 10:06:00|                 null|     903204|         968|Hospital Encounte...|                   null|                    null|      Non-Health Care F...|     Discharged to Hom...|                   8536|                         null|\n",
      "| 11119577|          178712772|        44818518|            null| 2019-11-07 10:00:00|          null|2019-11-07 10:00:00|                 null|         -1|          -1|Travel: *Unspecified|                   null|                    null|           *Not Applicable|          *Not Applicable|                      0|                         null|\n",
      "| 11171926|          189221166|          581477|            null| 2020-03-03 10:00:00|          null|2020-03-03 10:00:00|                 null|    1874379|       26666|Office Visit: SIC...|                   null|                    null|           *Not Applicable|          *Not Applicable|                      0|                         null|\n",
      "+---------+-------------------+----------------+----------------+--------------------+--------------+-------------------+---------------------+-----------+------------+--------------------+-----------------------+------------------------+--------------------------+-------------------------+-----------------------+-----------------------------+\n",
      "only showing top 20 rows\n",
      "\n"
     ]
    }
   ],
   "source": [
    "visit_occurrence = merge_files(\"/home/jupyter/omop-ed-datapipeline/visit_occurrence\")"
   ]
  },
  {
   "cell_type": "code",
   "execution_count": 29,
   "id": "fb43ab21-a773-4bd1-97e6-ad442cc1ed7b",
   "metadata": {},
   "outputs": [
    {
     "name": "stdout",
     "output_type": "stream",
     "text": [
      "(101, 5)\n",
      "+--------------------+--------------------+--------------------+--------------------+---------------------+\n",
      "|       vocabulary_id|     vocabulary_name|vocabulary_reference|  vocabulary_version|vocabulary_concept_id|\n",
      "+--------------------+--------------------+--------------------+--------------------+---------------------+\n",
      "|                None|OMOP Standardized...|      OMOP generated|      v5.0 04-FEB-22|             44819096|\n",
      "|          Visit Type|     OMOP Visit Type|      OMOP generated|                null|             44819150|\n",
      "|                 OSM|       OpenStreetMap|https://www.opens...|OSM Release 2019-...|                32541|\n",
      "|           Note Type|      OMOP Note Type|      OMOP generated|                null|             44819146|\n",
      "|                NUCC|National Uniform ...|http://www.nucc.o...|     2018-06-26 NUCC|             44819137|\n",
      "|             Episode|        OMOP Episode|      OMOP generated|    Episode 20201014|                32523|\n",
      "|                CPT4|Current Procedura...|http://www.nlm.ni...|        2021 Release|             44819100|\n",
      "|               HCPCS|Healthcare Common...|http://www.nlm.ni...|2020 Alpha Numeri...|             44819101|\n",
      "|                 NFC|New Form Code (Ep...|http://www.ephmra...|        NFC 20160704|                  245|\n",
      "|                ABMS|Provider Specialt...|http://www.abms.o...|     2018-06-26 ABMS|             45756746|\n",
      "|        Relationship|   OMOP Relationship|      OMOP generated|                null|             44819235|\n",
      "|                BDPM|Public Database o...|http://base-donne...|       BDPM 20191006|                  236|\n",
      "|                Cost|           OMOP Cost|      OMOP generated|                null|               581457|\n",
      "|CMS Place of Service|Place of Service ...|http://www.cms.go...|          2009-01-11|             44819110|\n",
      "|         Device Type|    OMOP Device Type|      OMOP generated|                null|             44819151|\n",
      "|          Death Type|     OMOP Death Type|      OMOP generated|                null|             44819135|\n",
      "|        Episode Type|   OMOP Episode Type|      OMOP generated|                null|                32542|\n",
      "| UB04 Pri Typ of Adm|UB04 Claim Inpati...|https://www.resda...|                null|                32046|\n",
      "|                MeSH|Medical Subject H...|http://www.nlm.ni...|        2021 Release|             44819136|\n",
      "|          EphMRA ATC|Anatomical Classi...|http://www.ephmra...|     EphMRA ATC 2016|                  243|\n",
      "+--------------------+--------------------+--------------------+--------------------+---------------------+\n",
      "only showing top 20 rows\n",
      "\n"
     ]
    }
   ],
   "source": [
    "vocabulary = merge_files(\"/home/jupyter/omop-ed-datapipeline/vocabulary\")"
   ]
  },
  {
   "cell_type": "code",
   "execution_count": 33,
   "id": "8709c02c-b8e7-4e44-97ea-3f029977c1bf",
   "metadata": {},
   "outputs": [],
   "source": [
    "all_frames = [care_site, concept, concept_ancestor, concept_class, concept_relationship, concept_synonym, condition_occurrence, csn_map, domain, drug_exposure, drug_strength, location, measurement, mrn_map, note, observation, payer_plan_period, person, phenotype, procedure_occurrence, relationship, specimen, visit_occurrence, vocabulary]\n",
    "all_names = ['care_site', 'concept', 'concept_ancestor', 'concept_class', 'oncept_relationship', 'concept_synonym', 'condition_occurrence', 'csn_map', 'domain', 'drug_exposure', 'drug_strength', 'location', 'measurement', 'mrn_map', 'note', 'observation', 'payer_plan_period', 'person', 'phenotype', 'procedure_occurrence', 'relationship', 'specimen', 'visit_occurrence', 'vocabulary']"
   ]
  },
  {
   "cell_type": "code",
   "execution_count": 46,
   "id": "88e13437-8d67-4f9d-a44d-5698364f40c8",
   "metadata": {},
   "outputs": [
    {
     "data": {
      "text/plain": [
       "{'care_site': ['care_site_id',\n",
       "  'care_site_name',\n",
       "  'place_of_service_concept_id',\n",
       "  'location_id',\n",
       "  'care_site_source_value',\n",
       "  'place_of_service_source_value'],\n",
       " 'concept': ['concept_id',\n",
       "  'concept_name',\n",
       "  'domain_id',\n",
       "  'vocabulary_id',\n",
       "  'concept_class_id',\n",
       "  'standard_concept',\n",
       "  'concept_code',\n",
       "  'valid_start_date',\n",
       "  'valid_end_date',\n",
       "  'invalid_reason'],\n",
       " 'concept_ancestor': ['ancestor_concept_id',\n",
       "  'descendant_concept_id',\n",
       "  'min_levels_of_separation',\n",
       "  'max_levels_of_separation'],\n",
       " 'concept_class': ['concept_class_id',\n",
       "  'concept_class_name',\n",
       "  'concept_class_concept_id'],\n",
       " 'oncept_relationship': ['concept_id_1',\n",
       "  'concept_id_2',\n",
       "  'relationship_id',\n",
       "  'valid_start_date',\n",
       "  'valid_end_date',\n",
       "  'invalid_reason'],\n",
       " 'concept_synonym': ['concept_id',\n",
       "  'concept_synonym_name',\n",
       "  'language_concept_id'],\n",
       " 'condition_occurrence': ['person_id',\n",
       "  'condition_occurrence_id',\n",
       "  'condition_occurrence_source_id',\n",
       "  'condition_concept_id',\n",
       "  'condition_start_date',\n",
       "  'condition_start_datetime',\n",
       "  'condition_end_date',\n",
       "  'condition_end_datetime',\n",
       "  'condition_type_concept_id',\n",
       "  'condition_status_concept_id',\n",
       "  'stop_reason',\n",
       "  'provider_id',\n",
       "  'visit_occurrence_id',\n",
       "  'visit_detail_id',\n",
       "  'condition_source_value',\n",
       "  'condition_source_concept_id',\n",
       "  'condition_status_source_value'],\n",
       " 'csn_map': ['visit_occurrence_id', 'csn'],\n",
       " 'domain': ['domain_id', 'domain_name', 'domain_concept_id'],\n",
       " 'drug_exposure': ['person_id',\n",
       "  'drug_exposure_id',\n",
       "  'drug_concept_id',\n",
       "  'drug_exposure_start_date',\n",
       "  'drug_exposure_start_datetime',\n",
       "  'drug_exposure_end_date',\n",
       "  'drug_exposure_end_datetime',\n",
       "  'verbatim_end_date',\n",
       "  'drug_type_concept_id',\n",
       "  'stop_reason',\n",
       "  'refills',\n",
       "  'quantity',\n",
       "  'days_supply',\n",
       "  'sig',\n",
       "  'route_concept_id',\n",
       "  'lot_number',\n",
       "  'provider_id',\n",
       "  'visit_occurrence_id',\n",
       "  'visit_detail_id',\n",
       "  'drug_source_value_code',\n",
       "  'drug_source_value_name',\n",
       "  'drug_generic_source_value_code',\n",
       "  'drug_generic_source_value_name',\n",
       "  'drug_source_concept_id',\n",
       "  'route_source_value',\n",
       "  'dose_unit_source_value',\n",
       "  'drug_class_source_value'],\n",
       " 'drug_strength': ['drug_concept_id',\n",
       "  'ingredient_concept_id',\n",
       "  'amount_value',\n",
       "  'amount_unit_concept_id',\n",
       "  'numerator_value',\n",
       "  'numerator_unit_concept_id',\n",
       "  'denominator_value',\n",
       "  'denominator_unit_concept_id',\n",
       "  'box_size',\n",
       "  'valid_start_date',\n",
       "  'valid_end_date',\n",
       "  'invalid_reason'],\n",
       " 'location': ['location_id',\n",
       "  'address_1',\n",
       "  'address_2',\n",
       "  'city',\n",
       "  'state',\n",
       "  'zip',\n",
       "  'county',\n",
       "  'country',\n",
       "  'location_source_value',\n",
       "  'latitude',\n",
       "  'longitude'],\n",
       " 'measurement': ['person_id',\n",
       "  'measurement_id',\n",
       "  'specimen_id',\n",
       "  'measurement_concept_id',\n",
       "  'measurement_date',\n",
       "  'measurement_datetime',\n",
       "  'order_datetime',\n",
       "  'measurement_time',\n",
       "  'measurement_type_concept_id',\n",
       "  'operator_concept_id',\n",
       "  'value_as_number',\n",
       "  'value_as_string',\n",
       "  'value_as_concept_id',\n",
       "  'unit_concept_id',\n",
       "  'range_low',\n",
       "  'range_high',\n",
       "  'provider_id',\n",
       "  'visit_occurrence_id',\n",
       "  'visit_detail_id',\n",
       "  'measurement_source_value',\n",
       "  'measurement_source_value_alt',\n",
       "  'measurement_source_concept_id',\n",
       "  'unit_source_value',\n",
       "  'value_source_value'],\n",
       " 'mrn_map': ['person_id', 'mrn'],\n",
       " 'note': ['person_id',\n",
       "  'note_id',\n",
       "  'note_event_id',\n",
       "  'note_event_field_concept_id',\n",
       "  'note_date',\n",
       "  'note_datetime',\n",
       "  'note_type_concept_id',\n",
       "  'note_class_concept_id',\n",
       "  'note_title',\n",
       "  'note_text',\n",
       "  'encoding_concept_id',\n",
       "  'language_concept_id',\n",
       "  'provider_id',\n",
       "  'visit_occurrence_id',\n",
       "  'visit_detail_id',\n",
       "  'note_source_value'],\n",
       " 'observation': ['person_id',\n",
       "  'observation_id',\n",
       "  'specimen_id',\n",
       "  'observation_concept_id',\n",
       "  'observation_date',\n",
       "  'observation_datetime',\n",
       "  'observation_type_concept_id',\n",
       "  'value_as_number',\n",
       "  'value_as_string',\n",
       "  'value_as_concept_id',\n",
       "  'qualifier_concept_id',\n",
       "  'unit_concept_id',\n",
       "  'provider_id',\n",
       "  'visit_occurrence_id',\n",
       "  'visit_detail_id',\n",
       "  'observation_source_value',\n",
       "  'observation_source_concept_id',\n",
       "  'unit_source_value',\n",
       "  'qualifier_source_value',\n",
       "  'observation_event_id',\n",
       "  'obs_event_field_concept_id',\n",
       "  'value_as_datetime',\n",
       "  'value_source_value'],\n",
       " 'payer_plan_period': ['person_id',\n",
       "  'payer_plan_period_id',\n",
       "  'contract_person_id',\n",
       "  'payer_plan_period_start_date',\n",
       "  'payer_plan_period_end_date',\n",
       "  'payer_concept_id',\n",
       "  'plan_concept_id',\n",
       "  'contract_concept_id',\n",
       "  'sponsor_concept_id',\n",
       "  'stop_reason_concept_id',\n",
       "  'payer_source_value',\n",
       "  'payer_source_concept_id',\n",
       "  'plan_source_value',\n",
       "  'plan_source_concept_id',\n",
       "  'contract_source_value',\n",
       "  'contract_source_concept_id',\n",
       "  'sponsor_source_value',\n",
       "  'sponsor_source_concept_id',\n",
       "  'family_source_value',\n",
       "  'stop_reason_source_value',\n",
       "  'stop_reason_source_concept_id',\n",
       "  'phenotype_start_date',\n",
       "  'phenotype_end_date'],\n",
       " 'person': ['person_id',\n",
       "  'gender_concept_id',\n",
       "  'year_of_birth',\n",
       "  'month_of_birth',\n",
       "  'day_of_birth',\n",
       "  'date_of_birth',\n",
       "  'birth_datetime',\n",
       "  'death_datetime',\n",
       "  'race_concept_id',\n",
       "  'ethnicity_concept_id',\n",
       "  'location_id',\n",
       "  'provider_id',\n",
       "  'care_site_id',\n",
       "  'person_source_value',\n",
       "  'gender_source_value',\n",
       "  'gender_source_concept_id',\n",
       "  'race_source_value',\n",
       "  'race_source_concept_id',\n",
       "  'ethnicity_source_value',\n",
       "  'ethnicity_source_concept_id'],\n",
       " 'phenotype': ['phenotype_uri',\n",
       "  'person_id',\n",
       "  'mrn',\n",
       "  'visit_occurrence_id',\n",
       "  'csn',\n",
       "  'order_id',\n",
       "  'specimen_id',\n",
       "  'birth_datetime',\n",
       "  'phenotype_start_date',\n",
       "  'phenotype_end_date'],\n",
       " 'procedure_occurrence': ['person_id',\n",
       "  'procedure_occurrence_id',\n",
       "  'procedure_concept_id',\n",
       "  'procedure_source_id',\n",
       "  'procedure_date',\n",
       "  'procedure_datetime',\n",
       "  'procedure_type_concept_id',\n",
       "  'modifier_concept_id',\n",
       "  'quantity',\n",
       "  'provider_id',\n",
       "  'visit_occurrence_id',\n",
       "  'visit_detail_id',\n",
       "  'procedure_source_value',\n",
       "  'procedure_source_concept_id',\n",
       "  'modifier_source_value',\n",
       "  'status_source_value'],\n",
       " 'relationship': ['relationship_id',\n",
       "  'relationship_name',\n",
       "  'is_hierarchical',\n",
       "  'defines_ancestry',\n",
       "  'reverse_relationship_id',\n",
       "  'relationship_concept_id'],\n",
       " 'specimen': ['person_id',\n",
       "  'specimen_id',\n",
       "  'specimen_concept_id',\n",
       "  'specimen_type_concept_id',\n",
       "  'specimen_date',\n",
       "  'specimen_datetime',\n",
       "  'quantity',\n",
       "  'unit_concept_id',\n",
       "  'anatomic_site_concept_id',\n",
       "  'disease_status_concept_id',\n",
       "  'collection_container_concept_id',\n",
       "  'specimen_source_id',\n",
       "  'specimen_source_value',\n",
       "  'unit_source_value',\n",
       "  'anatomic_site_source_value',\n",
       "  'disease_status_source_value',\n",
       "  'collection_container_source_value'],\n",
       " 'visit_occurrence': ['person_id',\n",
       "  'visit_occurrence_id',\n",
       "  'visit_concept_id',\n",
       "  'visit_start_date',\n",
       "  'visit_start_datetime',\n",
       "  'visit_end_date',\n",
       "  'visit_end_datetime',\n",
       "  'visit_type_concept_id',\n",
       "  'provider_id',\n",
       "  'care_site_id',\n",
       "  'visit_source_value',\n",
       "  'visit_source_concept_id',\n",
       "  'admitted_from_concept_id',\n",
       "  'admitted_from_source_value',\n",
       "  'discharge_to_source_value',\n",
       "  'discharge_to_concept_id',\n",
       "  'preceding_visit_occurrence_id'],\n",
       " 'vocabulary': ['vocabulary_id',\n",
       "  'vocabulary_name',\n",
       "  'vocabulary_reference',\n",
       "  'vocabulary_version',\n",
       "  'vocabulary_concept_id']}"
      ]
     },
     "execution_count": 47,
     "metadata": {},
     "output_type": "execute_result"
    }
   ],
   "source": [
    "frame_to_columns = {}\n",
    "for x in range(len(all_frames)):\n",
    "    frame = all_frames[x]\n",
    "    name = all_names[x]\n",
    "    # print(name)\n",
    "    cols = []\n",
    "    for col in frame.dtypes:\n",
    "        cols.append(col[0])\n",
    "        # print(col[0]+\" , \"+col[1])\n",
    "    # print(cols)\n",
    "    frame_to_columns[name] = cols\n",
    "frame_to_columns"
   ]
  }
 ],
 "metadata": {
  "kernelspec": {
   "display_name": "Python 3 (ipykernel)",
   "language": "python",
   "name": "python3"
  },
  "language_info": {
   "codemirror_mode": {
    "name": "ipython",
    "version": 3
   },
   "file_extension": ".py",
   "mimetype": "text/x-python",
   "name": "python",
   "nbconvert_exporter": "python",
   "pygments_lexer": "ipython3",
   "version": "3.9.2"
  }
 },
 "nbformat": 4,
 "nbformat_minor": 5
}
